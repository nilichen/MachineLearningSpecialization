{
 "cells": [
  {
   "cell_type": "markdown",
   "metadata": {},
   "source": [
    "# Regression Week 5: Feature Selection and LASSO (Interpretation)"
   ]
  },
  {
   "cell_type": "markdown",
   "metadata": {},
   "source": [
    "In this notebook, you will use LASSO to select features, building on a pre-implemented solver for LASSO (using GraphLab Create, though you can use other solvers). You will:\n",
    "* Run LASSO with different L1 penalties.\n",
    "* Choose best L1 penalty using a validation set.\n",
    "* Choose best L1 penalty using a validation set, with additional constraint on the size of subset.\n",
    "\n",
    "In the second notebook, you will implement your own LASSO solver, using coordinate descent. "
   ]
  },
  {
   "cell_type": "markdown",
   "metadata": {},
   "source": [
    "# Fire up graphlab create"
   ]
  },
  {
   "cell_type": "code",
   "execution_count": 1,
   "metadata": {
    "collapsed": true
   },
   "outputs": [],
   "source": [
    "import graphlab"
   ]
  },
  {
   "cell_type": "markdown",
   "metadata": {},
   "source": [
    "# Load in house sales data\n",
    "\n",
    "Dataset is from house sales in King County, the region where the city of Seattle, WA is located."
   ]
  },
  {
   "cell_type": "code",
   "execution_count": 2,
   "metadata": {
    "collapsed": false,
    "scrolled": true
   },
   "outputs": [
    {
     "name": "stderr",
     "output_type": "stream",
     "text": [
      "[INFO] \u001b[1;32m1450305266 : INFO:     (initialize_globals_from_environment:282): Setting configuration variable GRAPHLAB_FILEIO_ALTERNATIVE_SSL_CERT_FILE to /Users/KatrinaNi/anaconda/envs/dato-env/lib/python2.7/site-packages/certifi/cacert.pem\n",
      "\u001b[0m\u001b[1;32m1450305266 : INFO:     (initialize_globals_from_environment:282): Setting configuration variable GRAPHLAB_FILEIO_ALTERNATIVE_SSL_CERT_DIR to \n",
      "\u001b[0mThis non-commercial license of GraphLab Create is assigned to lichenni1990@gmail.com and will expire on September 21, 2016. For commercial licensing options, visit https://dato.com/buy/.\n",
      "\n",
      "[INFO] Start server at: ipc:///tmp/graphlab_server-12543 - Server binary: /Users/KatrinaNi/anaconda/envs/dato-env/lib/python2.7/site-packages/graphlab/unity_server - Server log: /tmp/graphlab_server_1450305266.log\n",
      "[INFO] GraphLab Server Version: 1.7.1\n"
     ]
    }
   ],
   "source": [
    "sales = graphlab.SFrame('kc_house_data.gl/')"
   ]
  },
  {
   "cell_type": "markdown",
   "metadata": {},
   "source": [
    "# Create new features"
   ]
  },
  {
   "cell_type": "markdown",
   "metadata": {},
   "source": [
    "As in Week 2, we consider features that are some transformations of inputs."
   ]
  },
  {
   "cell_type": "code",
   "execution_count": 3,
   "metadata": {
    "collapsed": true
   },
   "outputs": [],
   "source": [
    "from math import log, sqrt\n",
    "sales['sqft_living_sqrt'] = sales['sqft_living'].apply(sqrt)\n",
    "sales['sqft_lot_sqrt'] = sales['sqft_lot'].apply(sqrt)\n",
    "sales['bedrooms_square'] = sales['bedrooms']*sales['bedrooms']\n",
    "\n",
    "# In the dataset, 'floors' was defined with type string, \n",
    "# so we'll convert them to float, before creating a new feature.\n",
    "sales['floors'] = sales['floors'].astype(float) \n",
    "sales['floors_square'] = sales['floors']*sales['floors']"
   ]
  },
  {
   "cell_type": "markdown",
   "metadata": {},
   "source": [
    "* Squaring bedrooms will increase the separation between not many bedrooms (e.g. 1) and lots of bedrooms (e.g. 4) since 1^2 = 1 but 4^2 = 16. Consequently this variable will mostly affect houses with many bedrooms.\n",
    "* On the other hand, taking square root of sqft_living will decrease the separation between big house and small house. The owner may not be exactly twice as happy for getting a house that is twice as big."
   ]
  },
  {
   "cell_type": "markdown",
   "metadata": {},
   "source": [
    "# Learn regression weights with L1 penalty"
   ]
  },
  {
   "cell_type": "markdown",
   "metadata": {},
   "source": [
    "Let us fit a model with all the features available, plus the features we just created above."
   ]
  },
  {
   "cell_type": "code",
   "execution_count": 4,
   "metadata": {
    "collapsed": false
   },
   "outputs": [],
   "source": [
    "all_features = ['bedrooms', 'bedrooms_square',\n",
    "            'bathrooms',\n",
    "            'sqft_living', 'sqft_living_sqrt',\n",
    "            'sqft_lot', 'sqft_lot_sqrt',\n",
    "            'floors', 'floors_square',\n",
    "            'waterfront', 'view', 'condition', 'grade',\n",
    "            'sqft_above',\n",
    "            'sqft_basement',\n",
    "            'yr_built', 'yr_renovated']"
   ]
  },
  {
   "cell_type": "markdown",
   "metadata": {},
   "source": [
    "Applying L1 penalty requires adding an extra parameter (`l1_penalty`) to the linear regression call in GraphLab Create. (Other tools may have separate implementations of LASSO.)  Note that it's important to set `l2_penalty=0` to ensure we don't introduce an additional L2 penalty."
   ]
  },
  {
   "cell_type": "code",
   "execution_count": 27,
   "metadata": {
    "collapsed": false
   },
   "outputs": [
    {
     "name": "stdout",
     "output_type": "stream",
     "text": [
      "PROGRESS: Linear regression:\n",
      "PROGRESS: --------------------------------------------------------\n",
      "PROGRESS: Number of examples          : 21613\n",
      "PROGRESS: Number of features          : 17\n",
      "PROGRESS: Number of unpacked features : 17\n",
      "PROGRESS: Number of coefficients    : 18\n",
      "PROGRESS: Starting Accelerated Gradient (FISTA)\n",
      "PROGRESS: --------------------------------------------------------\n",
      "PROGRESS: +-----------+----------+-----------+--------------+--------------------+---------------+\n",
      "PROGRESS: | Iteration | Passes   | Step size | Elapsed Time | Training-max_error | Training-rmse |\n",
      "PROGRESS: +-----------+----------+-----------+--------------+--------------------+---------------+\n",
      "PROGRESS: Tuning step size. First iteration could take longer than subsequent iterations.\n",
      "PROGRESS: | 1         | 2        | 0.000002  | 0.503916     | 6962915.603493     | 426631.749026 |\n",
      "PROGRESS: | 2         | 3        | 0.000002  | 0.545603     | 6843144.200219     | 392488.929838 |\n",
      "PROGRESS: | 3         | 4        | 0.000002  | 0.586401     | 6831900.032123     | 385340.166783 |\n",
      "PROGRESS: | 4         | 5        | 0.000002  | 0.628851     | 6847166.848958     | 384842.383767 |\n",
      "PROGRESS: | 5         | 6        | 0.000002  | 0.668932     | 6869667.895833     | 385998.458623 |\n",
      "PROGRESS: | 6         | 7        | 0.000002  | 0.711545     | 6847177.773672     | 380824.455891 |\n",
      "PROGRESS: +-----------+----------+-----------+--------------+--------------------+---------------+\n",
      "PROGRESS: TERMINATED: Iteration limit reached.\n",
      "PROGRESS: This model may not be optimal. To improve it, consider increasing `max_iterations`.\n"
     ]
    }
   ],
   "source": [
    "model_all = graphlab.linear_regression.create(sales, target='price', features=all_features,\n",
    "                                              validation_set=None, \n",
    "                                              l2_penalty=0., l1_penalty=1e10)"
   ]
  },
  {
   "cell_type": "markdown",
   "metadata": {},
   "source": [
    "Find what features had non-zero weight."
   ]
  },
  {
   "cell_type": "code",
   "execution_count": 42,
   "metadata": {
    "collapsed": false
   },
   "outputs": [
    {
     "name": "stdout",
     "output_type": "stream",
     "text": [
      "+------------------+-------+---------------+\n",
      "|       name       | index |     value     |\n",
      "+------------------+-------+---------------+\n",
      "|   (intercept)    |  None |  274873.05595 |\n",
      "|     bedrooms     |  None |      0.0      |\n",
      "| bedrooms_square  |  None |      0.0      |\n",
      "|    bathrooms     |  None | 8468.53108691 |\n",
      "|   sqft_living    |  None | 24.4207209824 |\n",
      "| sqft_living_sqrt |  None | 350.060553386 |\n",
      "|     sqft_lot     |  None |      0.0      |\n",
      "|  sqft_lot_sqrt   |  None |      0.0      |\n",
      "|      floors      |  None |      0.0      |\n",
      "|  floors_square   |  None |      0.0      |\n",
      "|    waterfront    |  None |      0.0      |\n",
      "|       view       |  None |      0.0      |\n",
      "|    condition     |  None |      0.0      |\n",
      "|      grade       |  None | 842.068034898 |\n",
      "|    sqft_above    |  None | 20.0247224171 |\n",
      "|  sqft_basement   |  None |      0.0      |\n",
      "|     yr_built     |  None |      0.0      |\n",
      "|   yr_renovated   |  None |      0.0      |\n",
      "+------------------+-------+---------------+\n",
      "[18 rows x 3 columns]\n",
      "\n"
     ]
    }
   ],
   "source": [
    "model_all.coefficients.print_rows(num_rows=18)"
   ]
  },
  {
   "cell_type": "markdown",
   "metadata": {},
   "source": [
    "Note that a majority of the weights have been set to zero. So by setting an L1 penalty that's large enough, we are performing a subset selection. \n",
    "\n",
    "***QUIZ QUESTION***:\n",
    "According to this list of weights, which of the features have been chosen? "
   ]
  },
  {
   "cell_type": "markdown",
   "metadata": {},
   "source": [
    "# Selecting an L1 penalty"
   ]
  },
  {
   "cell_type": "markdown",
   "metadata": {},
   "source": [
    "To find a good L1 penalty, we will explore multiple values using a validation set. Let us do three way split into train, validation, and test sets:\n",
    "* Split our sales data into 2 sets: training and test\n",
    "* Further split our training data into two sets: train, validation\n",
    "\n",
    "Be *very* careful that you use seed = 1 to ensure you get the same answer!"
   ]
  },
  {
   "cell_type": "code",
   "execution_count": 20,
   "metadata": {
    "collapsed": true
   },
   "outputs": [],
   "source": [
    "(training_and_validation, testing) = sales.random_split(.9,seed=1) # initial train/test split\n",
    "(training, validation) = training_and_validation.random_split(0.5, seed=1) # split training into train and validate"
   ]
  },
  {
   "cell_type": "markdown",
   "metadata": {},
   "source": [
    "Next, we write a loop that does the following:\n",
    "* For `l1_penalty` in [10^1, 10^1.5, 10^2, 10^2.5, ..., 10^7] (to get this in Python, type `np.logspace(1, 7, num=13)`.)\n",
    "    * Fit a regression model with a given `l1_penalty` on TRAIN data. Specify `l1_penalty=l1_penalty` and `l2_penalty=0.` in the parameter list.\n",
    "    * Compute the RSS on VALIDATION data (here you will want to use `.predict()`) for that `l1_penalty`\n",
    "* Report which `l1_penalty` produced the lowest RSS on validation data.\n",
    "\n",
    "When you call `linear_regression.create()` make sure you set `validation_set = None`.\n",
    "\n",
    "Note: you can turn off the print out of `linear_regression.create()` with `verbose = False`"
   ]
  },
  {
   "cell_type": "code",
   "execution_count": 39,
   "metadata": {
    "collapsed": false
   },
   "outputs": [
    {
     "name": "stdout",
     "output_type": "stream",
     "text": [
      "+------------------+-------+------------------+\n",
      "|       name       | index |      value       |\n",
      "+------------------+-------+------------------+\n",
      "|   (intercept)    |  None |  18993.4272128   |\n",
      "|     bedrooms     |  None |  7936.96767903   |\n",
      "| bedrooms_square  |  None |  936.993368193   |\n",
      "|    bathrooms     |  None |  25409.5889341   |\n",
      "|   sqft_living    |  None |  39.1151363797   |\n",
      "| sqft_living_sqrt |  None |  1124.65021281   |\n",
      "|     sqft_lot     |  None | 0.00348361822299 |\n",
      "|  sqft_lot_sqrt   |  None |  148.258391011   |\n",
      "|      floors      |  None |   21204.335467   |\n",
      "|  floors_square   |  None |  12915.5243361   |\n",
      "|    waterfront    |  None |  601905.594545   |\n",
      "|       view       |  None |  93312.8573119   |\n",
      "|    condition     |  None |  6609.03571245   |\n",
      "|      grade       |  None |  6206.93999188   |\n",
      "|    sqft_above    |  None |  43.2870534193   |\n",
      "|  sqft_basement   |  None |  122.367827534   |\n",
      "|     yr_built     |  None |  9.43363539372   |\n",
      "|   yr_renovated   |  None |  56.0720034488   |\n",
      "+------------------+-------+------------------+\n",
      "[18 rows x 3 columns]\n",
      "\n",
      "None\n",
      "+------------------+-------+------------------+\n",
      "|       name       | index |      value       |\n",
      "+------------------+-------+------------------+\n",
      "|   (intercept)    |  None |  18993.4285345   |\n",
      "|     bedrooms     |  None |  7936.96764801   |\n",
      "| bedrooms_square  |  None |   936.99334899   |\n",
      "|    bathrooms     |  None |  25409.5888977   |\n",
      "|   sqft_living    |  None |  39.1151363649   |\n",
      "| sqft_living_sqrt |  None |   1124.6502113   |\n",
      "|     sqft_lot     |  None | 0.00348360549025 |\n",
      "|  sqft_lot_sqrt   |  None |  148.258390148   |\n",
      "|      floors      |  None |  21204.3353589   |\n",
      "|  floors_square   |  None |  12915.5242399   |\n",
      "|    waterfront    |  None |  601905.587264   |\n",
      "|       view       |  None |  93312.8568285   |\n",
      "|    condition     |  None |   6609.0356597   |\n",
      "|      grade       |  None |  6206.93997768   |\n",
      "|    sqft_above    |  None |  43.2870533669   |\n",
      "|  sqft_basement   |  None |  122.367826798   |\n",
      "|     yr_built     |  None |  9.43363531039   |\n",
      "|   yr_renovated   |  None |  56.0720018382   |\n",
      "+------------------+-------+------------------+\n",
      "[18 rows x 3 columns]\n",
      "\n",
      "None\n",
      "+------------------+-------+-----------------+\n",
      "|       name       | index |      value      |\n",
      "+------------------+-------+-----------------+\n",
      "|   (intercept)    |  None |  18993.4327144  |\n",
      "|     bedrooms     |  None |   7936.9675499  |\n",
      "| bedrooms_square  |  None |  936.993288262  |\n",
      "|    bathrooms     |  None |  25409.5887825  |\n",
      "|   sqft_living    |  None |  39.1151363182  |\n",
      "| sqft_living_sqrt |  None |  1124.65020653  |\n",
      "|     sqft_lot     |  None | 0.0034835652258 |\n",
      "|  sqft_lot_sqrt   |  None |  148.258387417  |\n",
      "|      floors      |  None |  21204.3350171  |\n",
      "|  floors_square   |  None |  12915.5239357  |\n",
      "|    waterfront    |  None |   601905.56424  |\n",
      "|       view       |  None |  93312.8552999  |\n",
      "|    condition     |  None |  6609.03549292  |\n",
      "|      grade       |  None |  6206.93993278  |\n",
      "|    sqft_above    |  None |   43.287053201  |\n",
      "|  sqft_basement   |  None |  122.367824469  |\n",
      "|     yr_built     |  None |  9.43363504686  |\n",
      "|   yr_renovated   |  None |   56.071996745  |\n",
      "+------------------+-------+-----------------+\n",
      "[18 rows x 3 columns]\n",
      "\n",
      "None\n",
      "+------------------+-------+------------------+\n",
      "|       name       | index |      value       |\n",
      "+------------------+-------+------------------+\n",
      "|   (intercept)    |  None |  18993.4459322   |\n",
      "|     bedrooms     |  None |  7936.96723967   |\n",
      "| bedrooms_square  |  None |  936.993096225   |\n",
      "|    bathrooms     |  None |  25409.5884183   |\n",
      "|   sqft_living    |  None |  39.1151361705   |\n",
      "| sqft_living_sqrt |  None |  1124.65019144   |\n",
      "|     sqft_lot     |  None | 0.00348343789842 |\n",
      "|  sqft_lot_sqrt   |  None |  148.258378783   |\n",
      "|      floors      |  None |  21204.3339364   |\n",
      "|  floors_square   |  None |  12915.5229739   |\n",
      "|    waterfront    |  None |  601905.491432   |\n",
      "|       view       |  None |  93312.8504661   |\n",
      "|    condition     |  None |  6609.03496549   |\n",
      "|      grade       |  None |  6206.93979079   |\n",
      "|    sqft_above    |  None |  43.2870526766   |\n",
      "|  sqft_basement   |  None |  122.367817104   |\n",
      "|     yr_built     |  None |  9.43363421352   |\n",
      "|   yr_renovated   |  None |  56.0719806388   |\n",
      "+------------------+-------+------------------+\n",
      "[18 rows x 3 columns]\n",
      "\n",
      "None\n",
      "+------------------+-------+------------------+\n",
      "|       name       | index |      value       |\n",
      "+------------------+-------+------------------+\n",
      "|   (intercept)    |  None |  18993.4877305   |\n",
      "|     bedrooms     |  None |  7936.96625863   |\n",
      "| bedrooms_square  |  None |  936.992488952   |\n",
      "|    bathrooms     |  None |  25409.5872664   |\n",
      "|   sqft_living    |  None |  39.1151357034   |\n",
      "| sqft_living_sqrt |  None |  1124.65014372   |\n",
      "|     sqft_lot     |  None | 0.00348303525386 |\n",
      "|  sqft_lot_sqrt   |  None |  148.258351477   |\n",
      "|      floors      |  None |  21204.3305187   |\n",
      "|  floors_square   |  None |  12915.5199324   |\n",
      "|    waterfront    |  None |  601905.261191   |\n",
      "|       view       |  None |  93312.8351802   |\n",
      "|    condition     |  None |  6609.03329762   |\n",
      "|      grade       |  None |  6206.93934177   |\n",
      "|    sqft_above    |  None |  43.2870510181   |\n",
      "|  sqft_basement   |  None |  122.367793815   |\n",
      "|     yr_built     |  None |  9.43363157825   |\n",
      "|   yr_renovated   |  None |  56.0719297067   |\n",
      "+------------------+-------+------------------+\n",
      "[18 rows x 3 columns]\n",
      "\n",
      "None\n",
      "+------------------+-------+------------------+\n",
      "|       name       | index |      value       |\n",
      "+------------------+-------+------------------+\n",
      "|   (intercept)    |  None |  18993.6199083   |\n",
      "|     bedrooms     |  None |  7936.96315631   |\n",
      "| bedrooms_square  |  None |  936.990568583   |\n",
      "|    bathrooms     |  None |  25409.5836239   |\n",
      "|   sqft_living    |  None |  39.1151342262   |\n",
      "| sqft_living_sqrt |  None |  1124.64999282   |\n",
      "|     sqft_lot     |  None | 0.00348176198003 |\n",
      "|  sqft_lot_sqrt   |  None |  148.258265129   |\n",
      "|      floors      |  None |  21204.3197113   |\n",
      "|  floors_square   |  None |  12915.5103143   |\n",
      "|    waterfront    |  None |  601904.533104   |\n",
      "|       view       |  None |  93312.7868419   |\n",
      "|    condition     |  None |  6609.02802336   |\n",
      "|      grade       |  None |  6206.93792184   |\n",
      "|    sqft_above    |  None |  43.2870457734   |\n",
      "|  sqft_basement   |  None |  122.367720169   |\n",
      "|     yr_built     |  None |  9.43362324482   |\n",
      "|   yr_renovated   |  None |  56.0717686452   |\n",
      "+------------------+-------+------------------+\n",
      "[18 rows x 3 columns]\n",
      "\n",
      "None\n",
      "+------------------+-------+------------------+\n",
      "|       name       | index |      value       |\n",
      "+------------------+-------+------------------+\n",
      "|   (intercept)    |  None |  18994.0378912   |\n",
      "|     bedrooms     |  None |  7936.95334592   |\n",
      "| bedrooms_square  |  None |  936.984495845   |\n",
      "|    bathrooms     |  None |  25409.5721055   |\n",
      "|   sqft_living    |  None |   39.115129555   |\n",
      "| sqft_living_sqrt |  None |  1124.64951563   |\n",
      "|     sqft_lot     |  None | 0.00347773553446 |\n",
      "|  sqft_lot_sqrt   |  None |  148.257992074   |\n",
      "|      floors      |  None |   21204.285535   |\n",
      "|  floors_square   |  None |  12915.4798991   |\n",
      "|    waterfront    |  None |  601902.230693   |\n",
      "|       view       |  None |  93312.6339828   |\n",
      "|    condition     |  None |  6609.01134468   |\n",
      "|      grade       |  None |  6206.93343165   |\n",
      "|    sqft_above    |  None |  43.2870291885   |\n",
      "|  sqft_basement   |  None |  122.367487279   |\n",
      "|     yr_built     |  None |  9.43359689216   |\n",
      "|   yr_renovated   |  None |   56.071259324   |\n",
      "+------------------+-------+------------------+\n",
      "[18 rows x 3 columns]\n",
      "\n",
      "None\n",
      "+------------------+-------+-----------------+\n",
      "|       name       | index |      value      |\n",
      "+------------------+-------+-----------------+\n",
      "|   (intercept)    |  None |  18995.3596694  |\n",
      "|     bedrooms     |  None |  7936.92232272  |\n",
      "| bedrooms_square  |  None |  936.965292161  |\n",
      "|    bathrooms     |  None |  25409.5356808  |\n",
      "|   sqft_living    |  None |  39.1151147834  |\n",
      "| sqft_living_sqrt |  None |  1124.64800663  |\n",
      "|     sqft_lot     |  None | 0.0034650027953 |\n",
      "|  sqft_lot_sqrt   |  None |  148.257128596  |\n",
      "|      floors      |  None |  21204.1774601  |\n",
      "|  floors_square   |  None |  12915.3837177  |\n",
      "|    waterfront    |  None |   601894.94983  |\n",
      "|       view       |  None |  93312.1505999  |\n",
      "|    condition     |  None |  6608.95860207  |\n",
      "|      grade       |  None |   6206.9192324  |\n",
      "|    sqft_above    |  None |  43.2869767421  |\n",
      "|  sqft_basement   |  None |  122.366750815  |\n",
      "|     yr_built     |  None |  9.43351355776  |\n",
      "|   yr_renovated   |  None |  56.0696487088  |\n",
      "+------------------+-------+-----------------+\n",
      "[18 rows x 3 columns]\n",
      "\n",
      "None\n",
      "+------------------+-------+------------------+\n",
      "|       name       | index |      value       |\n",
      "+------------------+-------+------------------+\n",
      "|   (intercept)    |  None |   18999.539499   |\n",
      "|     bedrooms     |  None |  7936.82421875   |\n",
      "| bedrooms_square  |  None |  936.904564783   |\n",
      "|    bathrooms     |  None |  25409.4204959   |\n",
      "|   sqft_living    |  None |  39.1150680714   |\n",
      "| sqft_living_sqrt |  None |  1124.64323476   |\n",
      "|     sqft_lot     |  None | 0.00342473834052 |\n",
      "|  sqft_lot_sqrt   |  None |  148.254398041   |\n",
      "|      floors      |  None |  21203.8356975   |\n",
      "|  floors_square   |  None |  12915.0795655   |\n",
      "|    waterfront    |  None |  601871.925719   |\n",
      "|       view       |  None |  93310.6220089   |\n",
      "|    condition     |  None |  6608.79181529   |\n",
      "|      grade       |  None |  6206.87433044   |\n",
      "|    sqft_above    |  None |  43.2868108922   |\n",
      "|  sqft_basement   |  None |  122.364421913   |\n",
      "|     yr_built     |  None |  9.43325003126   |\n",
      "|   yr_renovated   |  None |  56.0645554967   |\n",
      "+------------------+-------+------------------+\n",
      "[18 rows x 3 columns]\n",
      "\n",
      "None\n",
      "+------------------+-------+------------------+\n",
      "|       name       | index |      value       |\n",
      "+------------------+-------+------------------+\n",
      "|   (intercept)    |  None |  19012.7572816   |\n",
      "|     bedrooms     |  None |  7936.51398675   |\n",
      "| bedrooms_square  |  None |  936.712527935   |\n",
      "|    bathrooms     |  None |  25409.0562492   |\n",
      "|   sqft_living    |  None |  39.1149203552   |\n",
      "| sqft_living_sqrt |  None |  1124.62814478   |\n",
      "|     sqft_lot     |  None | 0.00329741094431 |\n",
      "|  sqft_lot_sqrt   |  None |  148.245763265   |\n",
      "|      floors      |  None |   21202.754949   |\n",
      "|  floors_square   |  None |  12914.1177518   |\n",
      "|    waterfront    |  None |  601799.117081   |\n",
      "|       view       |  None |  93305.7881796   |\n",
      "|    condition     |  None |  6608.26438913   |\n",
      "|      grade       |  None |  6206.73233795   |\n",
      "|    sqft_above    |  None |  43.2862864287   |\n",
      "|  sqft_basement   |  None |  122.357057279   |\n",
      "|     yr_built     |  None |  9.43241668723   |\n",
      "|   yr_renovated   |  None |  56.0484493444   |\n",
      "+------------------+-------+------------------+\n",
      "[18 rows x 3 columns]\n",
      "\n",
      "None\n",
      "+------------------+-------+------------------+\n",
      "|       name       | index |      value       |\n",
      "+------------------+-------+------------------+\n",
      "|   (intercept)    |  None |  19054.5555764   |\n",
      "|     bedrooms     |  None |  7935.53294712   |\n",
      "| bedrooms_square  |  None |  936.105254156   |\n",
      "|    bathrooms     |  None |  25407.9044002   |\n",
      "|   sqft_living    |  None |  39.1144532356   |\n",
      "| sqft_living_sqrt |  None |  1124.58042608   |\n",
      "|     sqft_lot     |  None | 0.00289476640108 |\n",
      "|  sqft_lot_sqrt   |  None |  148.218457709   |\n",
      "|      floors      |  None |  21199.3373226   |\n",
      "|  floors_square   |  None |  12911.0762302   |\n",
      "|    waterfront    |  None |  601568.875973   |\n",
      "|       view       |  None |  93290.5022704   |\n",
      "|    condition     |  None |  6606.59652132   |\n",
      "|      grade       |  None |  6206.28331834   |\n",
      "|    sqft_above    |  None |  43.2846279298   |\n",
      "|  sqft_basement   |  None |  122.333768262   |\n",
      "|     yr_built     |  None |  9.42978142224   |\n",
      "|   yr_renovated   |  None |  55.9975172235   |\n",
      "+------------------+-------+------------------+\n",
      "[18 rows x 3 columns]\n",
      "\n",
      "None\n",
      "+------------------+-------+------------------+\n",
      "|       name       | index |      value       |\n",
      "+------------------+-------+------------------+\n",
      "|   (intercept)    |  None |  19186.7333988   |\n",
      "|     bedrooms     |  None |   7932.4306272   |\n",
      "| bedrooms_square  |  None |   934.18488573   |\n",
      "|    bathrooms     |  None |  25404.2619334   |\n",
      "|   sqft_living    |  None |  39.1129760734   |\n",
      "| sqft_living_sqrt |  None |  1124.42952628   |\n",
      "|     sqft_lot     |  None | 0.00162149247578 |\n",
      "|  sqft_lot_sqrt   |  None |  148.132109954   |\n",
      "|      floors      |  None |  21188.5298383   |\n",
      "|  floors_square   |  None |  12901.4580936   |\n",
      "|    waterfront    |  None |  600840.789617   |\n",
      "|       view       |  None |  93242.1639781   |\n",
      "|    condition     |  None |  6601.32225988   |\n",
      "|      grade       |  None |  6204.86339356   |\n",
      "|    sqft_above    |  None |  43.2793832952   |\n",
      "|  sqft_basement   |  None |  122.260121918   |\n",
      "|     yr_built     |  None |  9.42144798212   |\n",
      "|   yr_renovated   |  None |  55.8364557053   |\n",
      "+------------------+-------+------------------+\n",
      "[18 rows x 3 columns]\n",
      "\n",
      "None\n",
      "+------------------+-------+--------------------+\n",
      "|       name       | index |       value        |\n",
      "+------------------+-------+--------------------+\n",
      "|   (intercept)    |  None |   19604.7163508    |\n",
      "|     bedrooms     |  None |   7922.62023075    |\n",
      "| bedrooms_square  |  None |   928.112147889    |\n",
      "|    bathrooms     |  None |    25392.743443    |\n",
      "|   sqft_living    |  None |   39.1083048767    |\n",
      "| sqft_living_sqrt |  None |   1123.95233925    |\n",
      "|     sqft_lot     |  None | -0.000823987151992 |\n",
      "|  sqft_lot_sqrt   |  None |   147.859054391    |\n",
      "|      floors      |  None |    21154.353574    |\n",
      "|  floors_square   |  None |    12871.042877    |\n",
      "|    waterfront    |  None |   598538.378522    |\n",
      "|       view       |  None |   93089.3048849    |\n",
      "|    condition     |  None |   6584.64358167    |\n",
      "|      grade       |  None |   6200.37319739    |\n",
      "|    sqft_above    |  None |   43.2627983054    |\n",
      "|  sqft_basement   |  None |   122.027231745    |\n",
      "|     yr_built     |  None |   9.39509533202    |\n",
      "|   yr_renovated   |  None |   55.3271344922    |\n",
      "+------------------+-------+--------------------+\n",
      "[18 rows x 3 columns]\n",
      "\n",
      "None\n"
     ]
    }
   ],
   "source": [
    "import numpy as np\n",
    "errors = dict()\n",
    "for l1_penalty in np.logspace(1, 7, num=13):\n",
    "    model = graphlab.linear_regression.create(training, target='price', features=all_features,\n",
    "                                              validation_set=None, verbose=False,\n",
    "                                              l2_penalty=0., l1_penalty=l1_penalty)\n",
    "    val_pred = model.predict(validation)\n",
    "    error = ((val_pred-validation['price'])**2).sum()\n",
    "    errors[l1_penalty] = error \n",
    "    print model.coefficients.print_rows(num_rows=18)"
   ]
  },
  {
   "cell_type": "code",
   "execution_count": 15,
   "metadata": {
    "collapsed": false
   },
   "outputs": [
    {
     "data": {
      "text/plain": [
       "10.0"
      ]
     },
     "execution_count": 15,
     "metadata": {},
     "output_type": "execute_result"
    }
   ],
   "source": [
    "min(errors, key=errors.get)"
   ]
  },
  {
   "cell_type": "code",
   "execution_count": 55,
   "metadata": {
    "collapsed": false
   },
   "outputs": [
    {
     "data": {
      "text/plain": [
       "{2976351441.6313133: 966925692362084.5,\n",
       " 3019316638.9524155: 974019450084556.1,\n",
       " 3062281836.2735176: 981188367942452.8,\n",
       " 3105247033.5946198: 989328342459474.0,\n",
       " 3148212230.9157219: 998783211265891.2,\n",
       " 3191177428.236824: 1008477167020094.0,\n",
       " 3234142625.5579262: 1018298780553819.8,\n",
       " 3277107822.8790283: 1028247992205977.2,\n",
       " 3320073020.2001305: 1034616909232828.1,\n",
       " 3363038217.5212326: 1038554735941040.8,\n",
       " 3406003414.8423347: 1043237237871703.0,\n",
       " 3448968612.1634369: 1046937488751711.1,\n",
       " 3491933809.484539: 1051147625612860.9,\n",
       " 3534899006.8056412: 1055992735342999.1,\n",
       " 3577864204.1267428: 1060799531763287.8,\n",
       " 3620829401.447845: 1065707689498230.1,\n",
       " 3663794598.7689471: 1069464335425586.5,\n",
       " 3706759796.0900493: 1073504549585599.6,\n",
       " 3749724993.4111514: 1077632775581416.0,\n",
       " 3792690190.7322536: 1081867592324110.6}"
      ]
     },
     "execution_count": 55,
     "metadata": {},
     "output_type": "execute_result"
    }
   ],
   "source": [
    "errors"
   ]
  },
  {
   "cell_type": "markdown",
   "metadata": {},
   "source": [
    "*** QUIZ QUESTIONS ***\n",
    "1. What was the best value for the `l1_penalty`?\n",
    "2. What is the RSS on TEST data of the model with the best `l1_penalty`?"
   ]
  },
  {
   "cell_type": "code",
   "execution_count": 16,
   "metadata": {
    "collapsed": false
   },
   "outputs": [],
   "source": [
    "model_best = graphlab.linear_regression.create(training, target='price', features=all_features,\n",
    "                                              validation_set=None, verbose=False,\n",
    "                                              l2_penalty=0., l1_penalty=10)\n",
    "test_pred = model_best.predict(testing)\n",
    "RSS = ((test_pred-testing['price'])**2).sum()"
   ]
  },
  {
   "cell_type": "code",
   "execution_count": 17,
   "metadata": {
    "collapsed": false
   },
   "outputs": [
    {
     "data": {
      "text/plain": [
       "156983602381664.2"
      ]
     },
     "execution_count": 17,
     "metadata": {},
     "output_type": "execute_result"
    }
   ],
   "source": [
    "RSS"
   ]
  },
  {
   "cell_type": "markdown",
   "metadata": {},
   "source": [
    "***QUIZ QUESTION***\n",
    "Also, using this value of L1 penalty, how many nonzero weights do you have?"
   ]
  },
  {
   "cell_type": "code",
   "execution_count": 37,
   "metadata": {
    "collapsed": false
   },
   "outputs": [
    {
     "name": "stdout",
     "output_type": "stream",
     "text": [
      "+------------------+-------+------------------+\n",
      "|       name       | index |      value       |\n",
      "+------------------+-------+------------------+\n",
      "|   (intercept)    |  None |  18993.4272128   |\n",
      "|     bedrooms     |  None |  7936.96767903   |\n",
      "| bedrooms_square  |  None |  936.993368193   |\n",
      "|    bathrooms     |  None |  25409.5889341   |\n",
      "|   sqft_living    |  None |  39.1151363797   |\n",
      "| sqft_living_sqrt |  None |  1124.65021281   |\n",
      "|     sqft_lot     |  None | 0.00348361822299 |\n",
      "|  sqft_lot_sqrt   |  None |  148.258391011   |\n",
      "|      floors      |  None |   21204.335467   |\n",
      "|  floors_square   |  None |  12915.5243361   |\n",
      "|    waterfront    |  None |  601905.594545   |\n",
      "|       view       |  None |  93312.8573119   |\n",
      "|    condition     |  None |  6609.03571245   |\n",
      "|      grade       |  None |  6206.93999188   |\n",
      "|    sqft_above    |  None |  43.2870534193   |\n",
      "|  sqft_basement   |  None |  122.367827534   |\n",
      "|     yr_built     |  None |  9.43363539372   |\n",
      "|   yr_renovated   |  None |  56.0720034488   |\n",
      "+------------------+-------+------------------+\n",
      "[18 rows x 3 columns]\n",
      "\n"
     ]
    }
   ],
   "source": [
    "model_best.coefficients.print_rows(num_rows=18)"
   ]
  },
  {
   "cell_type": "markdown",
   "metadata": {},
   "source": [
    "# Limit the number of nonzero weights\n",
    "\n",
    "What if we absolutely wanted to limit ourselves to, say, 7 features? This may be important if we want to derive \"a rule of thumb\" --- an interpretable model that has only a few features in them."
   ]
  },
  {
   "cell_type": "markdown",
   "metadata": {},
   "source": [
    "In this section, you are going to implement a simple, two phase procedure to achive this goal:\n",
    "1. Explore a large range of `l1_penalty` values to find a narrow region of `l1_penalty` values where models are likely to have the desired number of non-zero weights.\n",
    "2. Further explore the narrow region you found to find a good value for `l1_penalty` that achieves the desired sparsity.  Here, we will again use a validation set to choose the best value for `l1_penalty`."
   ]
  },
  {
   "cell_type": "code",
   "execution_count": 40,
   "metadata": {
    "collapsed": true
   },
   "outputs": [],
   "source": [
    "max_nonzeros = 7"
   ]
  },
  {
   "cell_type": "markdown",
   "metadata": {},
   "source": [
    "## Exploring the larger range of values to find a narrow range with the desired sparsity\n",
    "\n",
    "Let's define a wide range of possible `l1_penalty_values`:"
   ]
  },
  {
   "cell_type": "code",
   "execution_count": 41,
   "metadata": {
    "collapsed": false
   },
   "outputs": [],
   "source": [
    "l1_penalty_values = np.logspace(8, 10, num=20)"
   ]
  },
  {
   "cell_type": "markdown",
   "metadata": {},
   "source": [
    "Now, implement a loop that search through this space of possible `l1_penalty` values:\n",
    "\n",
    "* For `l1_penalty` in `np.logspace(8, 10, num=20)`:\n",
    "    * Fit a regression model with a given `l1_penalty` on TRAIN data. Specify `l1_penalty=l1_penalty` and `l2_penalty=0.` in the parameter list. When you call `linear_regression.create()` make sure you set `validation_set = None`\n",
    "    * Extract the weights of the model and count the number of nonzeros. Save the number of nonzeros to a list.\n",
    "        * *Hint: `model['coefficients']['value']` gives you an SArray with the parameters you learned.  If you call the method `.nnz()` on it, you will find the number of non-zero parameters!* "
   ]
  },
  {
   "cell_type": "code",
   "execution_count": 48,
   "metadata": {
    "collapsed": false
   },
   "outputs": [
    {
     "name": "stdout",
     "output_type": "stream",
     "text": [
      "+------------------+-------+------------------+\n",
      "|       name       | index |      value       |\n",
      "+------------------+-------+------------------+\n",
      "|   (intercept)    |  None |  25090.9173672   |\n",
      "|     bedrooms     |  None |   7789.1770611   |\n",
      "| bedrooms_square  |  None |  847.559686943   |\n",
      "|    bathrooms     |  None |  25234.2091945   |\n",
      "|   sqft_living    |  None |  39.0394459636   |\n",
      "| sqft_living_sqrt |  None |  1117.31189557   |\n",
      "|     sqft_lot     |  None | -0.0256861182399 |\n",
      "|  sqft_lot_sqrt   |  None |   143.98899197   |\n",
      "|      floors      |  None |  20695.3592396   |\n",
      "|  floors_square   |  None |  12466.6906503   |\n",
      "|    waterfront    |  None |  568204.644584   |\n",
      "|       view       |  None |  91066.9428088   |\n",
      "|    condition     |  None |  6360.78092625   |\n",
      "|      grade       |  None |  6139.21280565   |\n",
      "|    sqft_above    |  None |  43.0358299246   |\n",
      "|  sqft_basement   |  None |  118.945874954   |\n",
      "|     yr_built     |  None |  9.04040165402   |\n",
      "|   yr_renovated   |  None |  48.6154673093   |\n",
      "+------------------+-------+------------------+\n",
      "[18 rows x 3 columns]\n",
      "\n",
      "None\n",
      "+------------------+-------+------------------+\n",
      "|       name       | index |      value       |\n",
      "+------------------+-------+------------------+\n",
      "|   (intercept)    |  None |  26746.6619366   |\n",
      "|     bedrooms     |  None |  7743.97904785   |\n",
      "| bedrooms_square  |  None |  822.358945251   |\n",
      "|    bathrooms     |  None |  25178.6259306   |\n",
      "|   sqft_living    |  None |  39.0107181353   |\n",
      "| sqft_living_sqrt |  None |  1114.91071592   |\n",
      "|     sqft_lot     |  None | -0.0186630737228 |\n",
      "|  sqft_lot_sqrt   |  None |  142.519797841   |\n",
      "|      floors      |  None |  20545.8673047   |\n",
      "|  floors_square   |  None |  12339.2452502   |\n",
      "|    waterfront    |  None |  558930.247072   |\n",
      "|       view       |  None |  90439.7218512   |\n",
      "|    condition     |  None |  6288.00946554   |\n",
      "|      grade       |  None |  6118.41232062   |\n",
      "|    sqft_above    |  None |  42.9575567681   |\n",
      "|  sqft_basement   |  None |  117.990042601   |\n",
      "|     yr_built     |  None |   8.9240854332   |\n",
      "|   yr_renovated   |  None |  46.5618562477   |\n",
      "+------------------+-------+------------------+\n",
      "[18 rows x 3 columns]\n",
      "\n",
      "None\n",
      "+------------------+-------+------------------+\n",
      "|       name       | index |      value       |\n",
      "+------------------+-------+------------------+\n",
      "|   (intercept)    |  None |  28873.1810166   |\n",
      "|     bedrooms     |  None |  7691.04707569   |\n",
      "| bedrooms_square  |  None |  790.917579684   |\n",
      "|    bathrooms     |  None |  25115.2785345   |\n",
      "|   sqft_living    |  None |  38.9820788132   |\n",
      "| sqft_living_sqrt |  None |  1112.23941465   |\n",
      "|     sqft_lot     |  None | -0.0247373605808 |\n",
      "|  sqft_lot_sqrt   |  None |  140.945844751   |\n",
      "|      floors      |  None |  20365.2658969   |\n",
      "|  floors_square   |  None |  12181.1862577   |\n",
      "|    waterfront    |  None |  547143.180179   |\n",
      "|       view       |  None |  89651.6923916   |\n",
      "|    condition     |  None |   6199.959966    |\n",
      "|      grade       |  None |  6094.13138655   |\n",
      "|    sqft_above    |  None |   42.867184048   |\n",
      "|  sqft_basement   |  None |  116.789325286   |\n",
      "|     yr_built     |  None |  8.78432857707   |\n",
      "|   yr_renovated   |  None |  43.9534598575   |\n",
      "+------------------+-------+------------------+\n",
      "[18 rows x 3 columns]\n",
      "\n",
      "None\n",
      "+------------------+-------+------------------+\n",
      "|       name       | index |      value       |\n",
      "+------------------+-------+------------------+\n",
      "|   (intercept)    |  None |  31564.6064733   |\n",
      "|     bedrooms     |  None |  7618.56776464   |\n",
      "| bedrooms_square  |  None |  750.170954883   |\n",
      "|    bathrooms     |  None |  25026.1774076   |\n",
      "|   sqft_living    |  None |  38.9359152531   |\n",
      "| sqft_living_sqrt |  None |  1108.38631937   |\n",
      "|     sqft_lot     |  None | -0.0177447627514 |\n",
      "|  sqft_lot_sqrt   |  None |  138.385325946   |\n",
      "|      floors      |  None |   20124.74672    |\n",
      "|  floors_square   |  None |  11975.4977617   |\n",
      "|    waterfront    |  None |  532082.075627   |\n",
      "|       view       |  None |  88631.0425555   |\n",
      "|    condition     |  None |   6082.6260082   |\n",
      "|      grade       |  None |  6060.67791122   |\n",
      "|    sqft_above    |  None |  42.7403149791   |\n",
      "|  sqft_basement   |  None |  115.243036646   |\n",
      "|     yr_built     |  None |  8.59690263451   |\n",
      "|   yr_renovated   |  None |  40.6215623014   |\n",
      "+------------------+-------+------------------+\n",
      "[18 rows x 3 columns]\n",
      "\n",
      "None\n",
      "+------------------+-------+---------------+\n",
      "|       name       | index |     value     |\n",
      "+------------------+-------+---------------+\n",
      "|   (intercept)    |  None | 34954.6717432 |\n",
      "|     bedrooms     |  None | 7515.37748215 |\n",
      "| bedrooms_square  |  None | 696.785359477 |\n",
      "|    bathrooms     |  None | 24894.5560924 |\n",
      "|   sqft_living    |  None |  38.856140639 |\n",
      "| sqft_living_sqrt |  None | 1102.50564365 |\n",
      "|     sqft_lot     |  None |      0.0      |\n",
      "|  sqft_lot_sqrt   |  None | 133.900307194 |\n",
      "|      floors      |  None | 19795.9303312 |\n",
      "|  floors_square   |  None | 11704.2280548 |\n",
      "|    waterfront    |  None | 512800.580139 |\n",
      "|       view       |  None | 87294.4420808 |\n",
      "|    condition     |  None | 5922.04189535 |\n",
      "|      grade       |  None |  6012.6238341 |\n",
      "|    sqft_above    |  None | 42.5532436917 |\n",
      "|  sqft_basement   |  None | 113.237931828 |\n",
      "|     yr_built     |  None | 8.33793651364 |\n",
      "|   yr_renovated   |  None | 36.3585194287 |\n",
      "+------------------+-------+---------------+\n",
      "[18 rows x 3 columns]\n",
      "\n",
      "None\n",
      "+------------------+-------+---------------+\n",
      "|       name       | index |     value     |\n",
      "+------------------+-------+---------------+\n",
      "|   (intercept)    |  None | 39314.6150486 |\n",
      "|     bedrooms     |  None | 7394.88288952 |\n",
      "| bedrooms_square  |  None | 630.253031222 |\n",
      "|    bathrooms     |  None | 24745.1217898 |\n",
      "|   sqft_living    |  None | 38.7755060169 |\n",
      "| sqft_living_sqrt |  None | 1095.99069713 |\n",
      "|     sqft_lot     |  None |      0.0      |\n",
      "|  sqft_lot_sqrt   |  None | 129.371608166 |\n",
      "|      floors      |  None | 19399.6670071 |\n",
      "|  floors_square   |  None | 11367.9574719 |\n",
      "|    waterfront    |  None | 488319.748029 |\n",
      "|       view       |  None | 85626.7866561 |\n",
      "|    condition     |  None | 5728.63216536 |\n",
      "|      grade       |  None | 5956.87175569 |\n",
      "|    sqft_above    |  None |  42.340283995 |\n",
      "|  sqft_basement   |  None | 110.718677157 |\n",
      "|     yr_built     |  None |  8.0283367894 |\n",
      "|   yr_renovated   |  None | 30.9440309389 |\n",
      "+------------------+-------+---------------+\n",
      "[18 rows x 3 columns]\n",
      "\n",
      "None\n",
      "+------------------+-------+---------------+\n",
      "|       name       | index |     value     |\n",
      "+------------------+-------+---------------+\n",
      "|   (intercept)    |  None | 44909.3379183 |\n",
      "|     bedrooms     |  None | 7253.29314819 |\n",
      "| bedrooms_square  |  None | 547.592462374 |\n",
      "|    bathrooms     |  None | 24570.6858953 |\n",
      "|   sqft_living    |  None | 38.6822812723 |\n",
      "| sqft_living_sqrt |  None | 1088.38186842 |\n",
      "|     sqft_lot     |  None |      0.0      |\n",
      "|  sqft_lot_sqrt   |  None | 121.987113653 |\n",
      "|      floors      |  None | 18922.8216139 |\n",
      "|  floors_square   |  None | 10954.4718718 |\n",
      "|    waterfront    |  None |  457135.25712 |\n",
      "|       view       |  None | 83487.1278449 |\n",
      "|    condition     |  None | 5493.39678143 |\n",
      "|      grade       |  None | 5890.40390709 |\n",
      "|    sqft_above    |  None | 42.0766862594 |\n",
      "|  sqft_basement   |  None | 107.576708405 |\n",
      "|     yr_built     |  None | 7.65350461443 |\n",
      "|   yr_renovated   |  None | 24.0761982531 |\n",
      "+------------------+-------+---------------+\n",
      "[18 rows x 3 columns]\n",
      "\n",
      "None\n",
      "+------------------+-------+---------------+\n",
      "|       name       | index |     value     |\n",
      "+------------------+-------+---------------+\n",
      "|   (intercept)    |  None | 52030.0300806 |\n",
      "|     bedrooms     |  None | 7070.21661567 |\n",
      "| bedrooms_square  |  None | 441.775084091 |\n",
      "|    bathrooms     |  None |  24344.882055 |\n",
      "|   sqft_living    |  None |  38.561505028 |\n",
      "| sqft_living_sqrt |  None |  1078.536814  |\n",
      "|     sqft_lot     |  None |      0.0      |\n",
      "|  sqft_lot_sqrt   |  None | 112.959925773 |\n",
      "|      floors      |  None | 18308.8672364 |\n",
      "|  floors_square   |  None | 10424.1285297 |\n",
      "|    waterfront    |  None | 417398.763136 |\n",
      "|       view       |  None | 80764.7024479 |\n",
      "|    condition     |  None | 5191.18838206 |\n",
      "|      grade       |  None | 5804.71090167 |\n",
      "|    sqft_above    |  None | 41.7392680886 |\n",
      "|  sqft_basement   |  None | 103.557454602 |\n",
      "|     yr_built     |  None |  7.1715594532 |\n",
      "|   yr_renovated   |  None | 15.3173254645 |\n",
      "+------------------+-------+---------------+\n",
      "[18 rows x 3 columns]\n",
      "\n",
      "None\n",
      "+------------------+-------+---------------+\n",
      "|       name       | index |     value     |\n",
      "+------------------+-------+---------------+\n",
      "|   (intercept)    |  None | 61121.2820244 |\n",
      "|     bedrooms     |  None | 6842.36051556 |\n",
      "| bedrooms_square  |  None | 307.903660162 |\n",
      "|    bathrooms     |  None | 24063.6095875 |\n",
      "|   sqft_living    |  None | 38.4096473907 |\n",
      "| sqft_living_sqrt |  None | 1066.24937649 |\n",
      "|     sqft_lot     |  None |      0.0      |\n",
      "|  sqft_lot_sqrt   |  None | 100.193559291 |\n",
      "|      floors      |  None | 17539.4407831 |\n",
      "|  floors_square   |  None | 9755.40223411 |\n",
      "|    waterfront    |  None | 366774.084543 |\n",
      "|       view       |  None | 77282.2988126 |\n",
      "|    condition     |  None | 4811.23997193 |\n",
      "|      grade       |  None | 5697.41313174 |\n",
      "|    sqft_above    |  None | 41.3094875827 |\n",
      "|  sqft_basement   |  None | 98.4710825529 |\n",
      "|     yr_built     |  None | 6.56624951281 |\n",
      "|   yr_renovated   |  None | 4.17097362279 |\n",
      "+------------------+-------+---------------+\n",
      "[18 rows x 3 columns]\n",
      "\n",
      "None\n",
      "+------------------+-------+---------------+\n",
      "|       name       | index |     value     |\n",
      "+------------------+-------+---------------+\n",
      "|   (intercept)    |  None | 72653.7628357 |\n",
      "|     bedrooms     |  None | 6537.49853878 |\n",
      "| bedrooms_square  |  None | 135.203648875 |\n",
      "|    bathrooms     |  None | 23681.2367227 |\n",
      "|   sqft_living    |  None | 38.1918646961 |\n",
      "| sqft_living_sqrt |  None | 1049.39149651 |\n",
      "|     sqft_lot     |  None |      0.0      |\n",
      "|  sqft_lot_sqrt   |  None | 83.2210162526 |\n",
      "|      floors      |  None | 16527.6347038 |\n",
      "|  floors_square   |  None | 8889.54463876 |\n",
      "|    waterfront    |  None | 301854.633614 |\n",
      "|       view       |  None | 72780.6760936 |\n",
      "|    condition     |  None | 4313.38209201 |\n",
      "|      grade       |  None | 5553.89704035 |\n",
      "|    sqft_above    |  None | 40.7353790102 |\n",
      "|  sqft_basement   |  None | 91.9079636345 |\n",
      "|     yr_built     |  None | 5.76896588075 |\n",
      "|   yr_renovated   |  None |      0.0      |\n",
      "+------------------+-------+---------------+\n",
      "[18 rows x 3 columns]\n",
      "\n",
      "None\n",
      "+------------------+-------+---------------+\n",
      "|       name       | index |     value     |\n",
      "+------------------+-------+---------------+\n",
      "|   (intercept)    |  None | 87298.8276811 |\n",
      "|     bedrooms     |  None | 6137.40172251 |\n",
      "| bedrooms_square  |  None |      0.0      |\n",
      "|    bathrooms     |  None |  23168.695279 |\n",
      "|   sqft_living    |  None |  37.888523607 |\n",
      "| sqft_living_sqrt |  None | 1026.70969952 |\n",
      "|     sqft_lot     |  None |      0.0      |\n",
      "|  sqft_lot_sqrt   |  None | 60.0719852593 |\n",
      "|      floors      |  None | 15213.0294203 |\n",
      "|  floors_square   |  None | 7778.83538767 |\n",
      "|    waterfront    |  None |  217190.05178 |\n",
      "|       view       |  None | 66808.7395328 |\n",
      "|    condition     |  None | 3671.72833844 |\n",
      "|      grade       |  None | 5365.15461244 |\n",
      "|    sqft_above    |  None |  39.982281339 |\n",
      "|  sqft_basement   |  None | 83.3660308908 |\n",
      "|     yr_built     |  None | 4.73137145971 |\n",
      "|   yr_renovated   |  None |      0.0      |\n",
      "+------------------+-------+---------------+\n",
      "[18 rows x 3 columns]\n",
      "\n",
      "None\n",
      "+------------------+-------+---------------+\n",
      "|       name       | index |     value     |\n",
      "+------------------+-------+---------------+\n",
      "|   (intercept)    |  None | 105843.800016 |\n",
      "|     bedrooms     |  None | 5589.85410206 |\n",
      "| bedrooms_square  |  None |      0.0      |\n",
      "|    bathrooms     |  None | 22460.6559313 |\n",
      "|   sqft_living    |  None | 37.4484553711 |\n",
      "| sqft_living_sqrt |  None | 995.139815925 |\n",
      "|     sqft_lot     |  None |      0.0      |\n",
      "|  sqft_lot_sqrt   |  None | 29.0615219257 |\n",
      "|      floors      |  None | 13469.2490939 |\n",
      "|  floors_square   |  None | 6335.03673756 |\n",
      "|    waterfront    |  None | 108231.302491 |\n",
      "|       view       |  None | 59040.0488287 |\n",
      "|    condition     |  None | 2826.45412255 |\n",
      "|      grade       |  None | 5110.13478059 |\n",
      "|    sqft_above    |  None | 38.9670974649 |\n",
      "|  sqft_basement   |  None | 72.2623427181 |\n",
      "|     yr_built     |  None |  3.3529134234 |\n",
      "|   yr_renovated   |  None |      0.0      |\n",
      "+------------------+-------+---------------+\n",
      "[18 rows x 3 columns]\n",
      "\n",
      "None\n",
      "+------------------+-------+---------------+\n",
      "|       name       | index |     value     |\n",
      "+------------------+-------+---------------+\n",
      "|   (intercept)    |  None | 129178.714228 |\n",
      "|     bedrooms     |  None | 4784.47090092 |\n",
      "| bedrooms_square  |  None |      0.0      |\n",
      "|    bathrooms     |  None | 21417.8224739 |\n",
      "|   sqft_living    |  None | 36.7460694226 |\n",
      "| sqft_living_sqrt |  None |  947.9643281  |\n",
      "|     sqft_lot     |  None |      0.0      |\n",
      "|  sqft_lot_sqrt   |  None |      0.0      |\n",
      "|      floors      |  None | 11067.1541719 |\n",
      "|  floors_square   |  None | 4415.50904975 |\n",
      "|    waterfront    |  None |      0.0      |\n",
      "|       view       |  None | 48905.9159529 |\n",
      "|    condition     |  None | 1667.84083599 |\n",
      "|      grade       |  None | 4746.51594025 |\n",
      "|    sqft_above    |  None | 37.5177051667 |\n",
      "|  sqft_basement   |  None | 57.6569178006 |\n",
      "|     yr_built     |  None | 1.44764312989 |\n",
      "|   yr_renovated   |  None |      0.0      |\n",
      "+------------------+-------+---------------+\n",
      "[18 rows x 3 columns]\n",
      "\n",
      "None\n",
      "+------------------+-------+---------------+\n",
      "|       name       | index |     value     |\n",
      "+------------------+-------+---------------+\n",
      "|   (intercept)    |  None | 158796.200904 |\n",
      "|     bedrooms     |  None | 3707.13962925 |\n",
      "| bedrooms_square  |  None |      0.0      |\n",
      "|    bathrooms     |  None | 19985.9978368 |\n",
      "|   sqft_living    |  None | 35.6973978709 |\n",
      "| sqft_living_sqrt |  None | 882.788902805 |\n",
      "|     sqft_lot     |  None |      0.0      |\n",
      "|  sqft_lot_sqrt   |  None |      0.0      |\n",
      "|      floors      |  None |  7920.1252361 |\n",
      "|  floors_square   |  None | 1926.93051575 |\n",
      "|    waterfront    |  None |      0.0      |\n",
      "|       view       |  None | 32825.2978687 |\n",
      "|    condition     |  None | 150.014330496 |\n",
      "|      grade       |  None | 4258.66302235 |\n",
      "|    sqft_above    |  None | 35.5274768688 |\n",
      "|  sqft_basement   |  None | 38.1940509078 |\n",
      "|     yr_built     |  None |      0.0      |\n",
      "|   yr_renovated   |  None |      0.0      |\n",
      "+------------------+-------+---------------+\n",
      "[18 rows x 3 columns]\n",
      "\n",
      "None\n",
      "+------------------+-------+---------------+\n",
      "|       name       | index |     value     |\n",
      "+------------------+-------+---------------+\n",
      "|   (intercept)    |  None | 196100.937806 |\n",
      "|     bedrooms     |  None | 2181.57432107 |\n",
      "| bedrooms_square  |  None |      0.0      |\n",
      "|    bathrooms     |  None | 17962.6966612 |\n",
      "|   sqft_living    |  None | 34.1424656512 |\n",
      "| sqft_living_sqrt |  None | 789.319789078 |\n",
      "|     sqft_lot     |  None |      0.0      |\n",
      "|  sqft_lot_sqrt   |  None |      0.0      |\n",
      "|      floors      |  None |  3665.9308176 |\n",
      "|  floors_square   |  None |      0.0      |\n",
      "|    waterfront    |  None |      0.0      |\n",
      "|       view       |  None | 11333.8410308 |\n",
      "|    condition     |  None |      0.0      |\n",
      "|      grade       |  None | 3578.90040044 |\n",
      "|    sqft_above    |  None | 32.7432013718 |\n",
      "|  sqft_basement   |  None | 12.7953811359 |\n",
      "|     yr_built     |  None |      0.0      |\n",
      "|   yr_renovated   |  None |      0.0      |\n",
      "+------------------+-------+---------------+\n",
      "[18 rows x 3 columns]\n",
      "\n",
      "None\n",
      "+------------------+-------+---------------+\n",
      "|       name       | index |     value     |\n",
      "+------------------+-------+---------------+\n",
      "|   (intercept)    |  None |  240309.75932 |\n",
      "|     bedrooms     |  None |      0.0      |\n",
      "| bedrooms_square  |  None |      0.0      |\n",
      "|    bathrooms     |  None | 13840.6399577 |\n",
      "|   sqft_living    |  None | 30.5583588298 |\n",
      "| sqft_living_sqrt |  None | 592.199469213 |\n",
      "|     sqft_lot     |  None |      0.0      |\n",
      "|  sqft_lot_sqrt   |  None |      0.0      |\n",
      "|      floors      |  None |      0.0      |\n",
      "|  floors_square   |  None |      0.0      |\n",
      "|    waterfront    |  None |      0.0      |\n",
      "|       view       |  None |      0.0      |\n",
      "|    condition     |  None |      0.0      |\n",
      "|      grade       |  None | 2265.12052556 |\n",
      "|    sqft_above    |  None | 27.4878726568 |\n",
      "|  sqft_basement   |  None |      0.0      |\n",
      "|     yr_built     |  None |      0.0      |\n",
      "|   yr_renovated   |  None |      0.0      |\n",
      "+------------------+-------+---------------+\n",
      "[18 rows x 3 columns]\n",
      "\n",
      "None\n",
      "+------------------+-------+---------------+\n",
      "|       name       | index |     value     |\n",
      "+------------------+-------+---------------+\n",
      "|   (intercept)    |  None | 291783.678065 |\n",
      "|     bedrooms     |  None |      0.0      |\n",
      "| bedrooms_square  |  None |      0.0      |\n",
      "|    bathrooms     |  None | 6104.32576546 |\n",
      "|   sqft_living    |  None | 23.1701243021 |\n",
      "| sqft_living_sqrt |  None | 215.030934365 |\n",
      "|     sqft_lot     |  None |      0.0      |\n",
      "|  sqft_lot_sqrt   |  None |      0.0      |\n",
      "|      floors      |  None |      0.0      |\n",
      "|  floors_square   |  None |      0.0      |\n",
      "|    waterfront    |  None |      0.0      |\n",
      "|       view       |  None |      0.0      |\n",
      "|    condition     |  None |      0.0      |\n",
      "|      grade       |  None |      0.0      |\n",
      "|    sqft_above    |  None | 18.4074740154 |\n",
      "|  sqft_basement   |  None |      0.0      |\n",
      "|     yr_built     |  None |      0.0      |\n",
      "|   yr_renovated   |  None |      0.0      |\n",
      "+------------------+-------+---------------+\n",
      "[18 rows x 3 columns]\n",
      "\n",
      "None\n",
      "+------------------+-------+---------------+\n",
      "|       name       | index |     value     |\n",
      "+------------------+-------+---------------+\n",
      "|   (intercept)    |  None | 352383.220392 |\n",
      "|     bedrooms     |  None |      0.0      |\n",
      "| bedrooms_square  |  None |      0.0      |\n",
      "|    bathrooms     |  None |      0.0      |\n",
      "|   sqft_living    |  None | 11.5088257813 |\n",
      "| sqft_living_sqrt |  None |      0.0      |\n",
      "|     sqft_lot     |  None |      0.0      |\n",
      "|  sqft_lot_sqrt   |  None |      0.0      |\n",
      "|      floors      |  None |      0.0      |\n",
      "|  floors_square   |  None |      0.0      |\n",
      "|    waterfront    |  None |      0.0      |\n",
      "|       view       |  None |      0.0      |\n",
      "|    condition     |  None |      0.0      |\n",
      "|      grade       |  None |      0.0      |\n",
      "|    sqft_above    |  None | 4.66343503593 |\n",
      "|  sqft_basement   |  None |      0.0      |\n",
      "|     yr_built     |  None |      0.0      |\n",
      "|   yr_renovated   |  None |      0.0      |\n",
      "+------------------+-------+---------------+\n",
      "[18 rows x 3 columns]\n",
      "\n",
      "None\n",
      "+------------------+-------+---------------+\n",
      "|       name       | index |     value     |\n",
      "+------------------+-------+---------------+\n",
      "|   (intercept)    |  None | 507987.962744 |\n",
      "|     bedrooms     |  None |      0.0      |\n",
      "| bedrooms_square  |  None |      0.0      |\n",
      "|    bathrooms     |  None |      0.0      |\n",
      "|   sqft_living    |  None |      0.0      |\n",
      "| sqft_living_sqrt |  None |      0.0      |\n",
      "|     sqft_lot     |  None |      0.0      |\n",
      "|  sqft_lot_sqrt   |  None |      0.0      |\n",
      "|      floors      |  None |      0.0      |\n",
      "|  floors_square   |  None |      0.0      |\n",
      "|    waterfront    |  None |      0.0      |\n",
      "|       view       |  None |      0.0      |\n",
      "|    condition     |  None |      0.0      |\n",
      "|      grade       |  None |      0.0      |\n",
      "|    sqft_above    |  None |      0.0      |\n",
      "|  sqft_basement   |  None |      0.0      |\n",
      "|     yr_built     |  None |      0.0      |\n",
      "|   yr_renovated   |  None |      0.0      |\n",
      "+------------------+-------+---------------+\n",
      "[18 rows x 3 columns]\n",
      "\n",
      "None\n",
      "+------------------+-------+---------------+\n",
      "|       name       | index |     value     |\n",
      "+------------------+-------+---------------+\n",
      "|   (intercept)    |  None | 564482.136844 |\n",
      "|     bedrooms     |  None |      0.0      |\n",
      "| bedrooms_square  |  None |      0.0      |\n",
      "|    bathrooms     |  None |      0.0      |\n",
      "|   sqft_living    |  None |      0.0      |\n",
      "| sqft_living_sqrt |  None |      0.0      |\n",
      "|     sqft_lot     |  None |      0.0      |\n",
      "|  sqft_lot_sqrt   |  None |      0.0      |\n",
      "|      floors      |  None |      0.0      |\n",
      "|  floors_square   |  None |      0.0      |\n",
      "|    waterfront    |  None |      0.0      |\n",
      "|       view       |  None |      0.0      |\n",
      "|    condition     |  None |      0.0      |\n",
      "|      grade       |  None |      0.0      |\n",
      "|    sqft_above    |  None |      0.0      |\n",
      "|  sqft_basement   |  None |      0.0      |\n",
      "|     yr_built     |  None |      0.0      |\n",
      "|   yr_renovated   |  None |      0.0      |\n",
      "+------------------+-------+---------------+\n",
      "[18 rows x 3 columns]\n",
      "\n",
      "None\n"
     ]
    }
   ],
   "source": [
    "nonzeros = dict()\n",
    "for l1_penalty in np.logspace(8, 10, num=20):\n",
    "    model = graphlab.linear_regression.create(training, target='price', features=all_features,\n",
    "                                              validation_set=None, verbose=False,\n",
    "                                              l2_penalty=0., l1_penalty=l1_penalty)\n",
    "    nonzeros[l1_penalty] = model.coefficients['value'].nnz()\n",
    "    print model.coefficients.print_rows(num_rows=18)"
   ]
  },
  {
   "cell_type": "markdown",
   "metadata": {},
   "source": [
    "Out of this large range, we want to find the two ends of our desired narrow range of `l1_penalty`.  At one end, we will have `l1_penalty` values that have too few non-zeros, and at the other end, we will have an `l1_penalty` that has too many non-zeros.  \n",
    "\n",
    "More formally, find:\n",
    "* The largest `l1_penalty` that has more non-zeros than `max_nonzero` (if we pick a penalty smaller than this value, we will definitely have too many non-zero weights)\n",
    "    * Store this value in the variable `l1_penalty_min` (we will use it later)\n",
    "* The smallest `l1_penalty` that has fewer non-zeros than `max_nonzero` (if we pick a penalty larger than this value, we will definitely have too few non-zero weights)\n",
    "    * Store this value in the variable `l1_penalty_max` (we will use it later)\n",
    "\n",
    "\n",
    "*Hint: there are many ways to do this, e.g.:*\n",
    "* Programmatically within the loop above\n",
    "* Creating a list with the number of non-zeros for each value of `l1_penalty` and inspecting it to find the appropriate boundaries."
   ]
  },
  {
   "cell_type": "code",
   "execution_count": 49,
   "metadata": {
    "collapsed": false
   },
   "outputs": [
    {
     "data": {
      "text/plain": [
       "{100000000.0: 18,\n",
       " 127427498.57031322: 18,\n",
       " 162377673.91887242: 18,\n",
       " 206913808.11147901: 18,\n",
       " 263665089.87303555: 17,\n",
       " 335981828.62837881: 17,\n",
       " 428133239.8719396: 17,\n",
       " 545559478.11685145: 17,\n",
       " 695192796.17755914: 17,\n",
       " 885866790.41008317: 16,\n",
       " 1128837891.6846883: 15,\n",
       " 1438449888.2876658: 15,\n",
       " 1832980710.8324375: 13,\n",
       " 2335721469.0901213: 12,\n",
       " 2976351441.6313133: 10,\n",
       " 3792690190.7322536: 6,\n",
       " 4832930238.5717525: 5,\n",
       " 6158482110.6602545: 3,\n",
       " 7847599703.5146227: 1,\n",
       " 10000000000.0: 1}"
      ]
     },
     "execution_count": 49,
     "metadata": {},
     "output_type": "execute_result"
    }
   ],
   "source": [
    "nonzeros"
   ]
  },
  {
   "cell_type": "code",
   "execution_count": 50,
   "metadata": {
    "collapsed": true
   },
   "outputs": [],
   "source": [
    "l1_penalty_min = 2976351441.6313133\n",
    "l1_penalty_max = 3792690190.7322536"
   ]
  },
  {
   "cell_type": "markdown",
   "metadata": {},
   "source": [
    "***QUIZ QUESTIONS***\n",
    "\n",
    "What values did you find for `l1_penalty_min` and`l1_penalty_max`? "
   ]
  },
  {
   "cell_type": "markdown",
   "metadata": {},
   "source": [
    "## Exploring the narrow range of values to find the solution with the right number of non-zeros that has lowest RSS on the validation set \n",
    "\n",
    "We will now explore the narrow region of `l1_penalty` values we found:"
   ]
  },
  {
   "cell_type": "code",
   "execution_count": 51,
   "metadata": {
    "collapsed": true
   },
   "outputs": [],
   "source": [
    "l1_penalty_values = np.linspace(l1_penalty_min,l1_penalty_max,20)"
   ]
  },
  {
   "cell_type": "markdown",
   "metadata": {},
   "source": [
    "* For `l1_penalty` in `np.linspace(l1_penalty_min,l1_penalty_max,20)`:\n",
    "    * Fit a regression model with a given `l1_penalty` on TRAIN data. Specify `l1_penalty=l1_penalty` and `l2_penalty=0.` in the parameter list. When you call `linear_regression.create()` make sure you set `validation_set = None`\n",
    "    * Measure the RSS of the learned model on the VALIDATION set\n",
    "\n",
    "Find the model that the lowest RSS on the VALIDATION set and has sparsity *equal* to `max_nonzero`."
   ]
  },
  {
   "cell_type": "code",
   "execution_count": 52,
   "metadata": {
    "collapsed": true
   },
   "outputs": [],
   "source": [
    "nonzeros = dict()\n",
    "errors = dict()\n",
    "for l1_penalty in l1_penalty_values:\n",
    "    model = graphlab.linear_regression.create(training, target='price', features=all_features,\n",
    "                                              validation_set=None, verbose=False,\n",
    "                                              l2_penalty=0., l1_penalty=l1_penalty)\n",
    "    val_pred = model.predict(validation)\n",
    "    error = ((val_pred-validation['price'])**2).sum()\n",
    "    errors[l1_penalty] = error\n",
    "    nonzeros[l1_penalty] = model.coefficients['value'].nnz()\n",
    "    # print model.coefficients.print_rows(num_rows=18)"
   ]
  },
  {
   "cell_type": "markdown",
   "metadata": {},
   "source": [
    "***QUIZ QUESTIONS***\n",
    "1. What value of `l1_penalty` in our narrow range has the lowest RSS on the VALIDATION set and has sparsity *equal* to `max_nonzeros`?\n",
    "2. What features in this model have non-zero coefficients?"
   ]
  },
  {
   "cell_type": "code",
   "execution_count": 53,
   "metadata": {
    "collapsed": false
   },
   "outputs": [
    {
     "data": {
      "text/plain": [
       "{2976351441.6313133: 10,\n",
       " 3019316638.9524155: 10,\n",
       " 3062281836.2735176: 10,\n",
       " 3105247033.5946198: 10,\n",
       " 3148212230.9157219: 10,\n",
       " 3191177428.236824: 10,\n",
       " 3234142625.5579262: 10,\n",
       " 3277107822.8790283: 10,\n",
       " 3320073020.2001305: 8,\n",
       " 3363038217.5212326: 8,\n",
       " 3406003414.8423347: 8,\n",
       " 3448968612.1634369: 7,\n",
       " 3491933809.484539: 7,\n",
       " 3534899006.8056412: 7,\n",
       " 3577864204.1267428: 7,\n",
       " 3620829401.447845: 6,\n",
       " 3663794598.7689471: 6,\n",
       " 3706759796.0900493: 6,\n",
       " 3749724993.4111514: 6,\n",
       " 3792690190.7322536: 6}"
      ]
     },
     "execution_count": 53,
     "metadata": {},
     "output_type": "execute_result"
    }
   ],
   "source": [
    "nonzeros"
   ]
  },
  {
   "cell_type": "code",
   "execution_count": 54,
   "metadata": {
    "collapsed": false
   },
   "outputs": [
    {
     "data": {
      "text/plain": [
       "{2976351441.6313133: 966925692362084.5,\n",
       " 3019316638.9524155: 974019450084556.1,\n",
       " 3062281836.2735176: 981188367942452.8,\n",
       " 3105247033.5946198: 989328342459474.0,\n",
       " 3148212230.9157219: 998783211265891.2,\n",
       " 3191177428.236824: 1008477167020094.0,\n",
       " 3234142625.5579262: 1018298780553819.8,\n",
       " 3277107822.8790283: 1028247992205977.2,\n",
       " 3320073020.2001305: 1034616909232828.1,\n",
       " 3363038217.5212326: 1038554735941040.8,\n",
       " 3406003414.8423347: 1043237237871703.0,\n",
       " 3448968612.1634369: 1046937488751711.1,\n",
       " 3491933809.484539: 1051147625612860.9,\n",
       " 3534899006.8056412: 1055992735342999.1,\n",
       " 3577864204.1267428: 1060799531763287.8,\n",
       " 3620829401.447845: 1065707689498230.1,\n",
       " 3663794598.7689471: 1069464335425586.5,\n",
       " 3706759796.0900493: 1073504549585599.6,\n",
       " 3749724993.4111514: 1077632775581416.0,\n",
       " 3792690190.7322536: 1081867592324110.6}"
      ]
     },
     "execution_count": 54,
     "metadata": {},
     "output_type": "execute_result"
    }
   ],
   "source": [
    "errors"
   ]
  },
  {
   "cell_type": "code",
   "execution_count": 57,
   "metadata": {
    "collapsed": false
   },
   "outputs": [
    {
     "name": "stdout",
     "output_type": "stream",
     "text": [
      "+------------------+-------+---------------+\n",
      "|       name       | index |     value     |\n",
      "+------------------+-------+---------------+\n",
      "|   (intercept)    |  None | 222253.192544 |\n",
      "|     bedrooms     |  None | 661.722717782 |\n",
      "| bedrooms_square  |  None |      0.0      |\n",
      "|    bathrooms     |  None | 15873.9572593 |\n",
      "|   sqft_living    |  None | 32.4102214513 |\n",
      "| sqft_living_sqrt |  None | 690.114773313 |\n",
      "|     sqft_lot     |  None |      0.0      |\n",
      "|  sqft_lot_sqrt   |  None |      0.0      |\n",
      "|      floors      |  None |      0.0      |\n",
      "|  floors_square   |  None |      0.0      |\n",
      "|    waterfront    |  None |      0.0      |\n",
      "|       view       |  None |      0.0      |\n",
      "|    condition     |  None |      0.0      |\n",
      "|      grade       |  None | 2899.42026975 |\n",
      "|    sqft_above    |  None | 30.0115753022 |\n",
      "|  sqft_basement   |  None |      0.0      |\n",
      "|     yr_built     |  None |      0.0      |\n",
      "|   yr_renovated   |  None |      0.0      |\n",
      "+------------------+-------+---------------+\n",
      "[18 rows x 3 columns]\n",
      "\n"
     ]
    }
   ],
   "source": [
    "model = graphlab.linear_regression.create(training, target='price', features=all_features,\n",
    "                                              validation_set=None, verbose=False,\n",
    "                                              l2_penalty=0., l1_penalty=3448968612.1634369)\n",
    "model.coefficients.print_rows(num_rows=18)"
   ]
  },
  {
   "cell_type": "code",
   "execution_count": null,
   "metadata": {
    "collapsed": true
   },
   "outputs": [],
   "source": []
  }
 ],
 "metadata": {
  "kernelspec": {
   "display_name": "Python 2",
   "language": "python",
   "name": "python2"
  },
  "language_info": {
   "codemirror_mode": {
    "name": "ipython",
    "version": 2
   },
   "file_extension": ".py",
   "mimetype": "text/x-python",
   "name": "python",
   "nbconvert_exporter": "python",
   "pygments_lexer": "ipython2",
   "version": "2.7.10"
  }
 },
 "nbformat": 4,
 "nbformat_minor": 0
}
