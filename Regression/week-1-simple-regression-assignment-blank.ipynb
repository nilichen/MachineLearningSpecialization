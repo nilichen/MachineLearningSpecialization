{
 "cells": [
  {
   "cell_type": "markdown",
   "metadata": {},
   "source": [
    "# Regression Week 1: Simple Linear Regression"
   ]
  },
  {
   "cell_type": "markdown",
   "metadata": {},
   "source": [
    "In this notebook we will use data on house sales in King County to predict house prices using simple (one input) linear regression. You will:\n",
    "* Use graphlab SArray and SFrame functions to compute important summary statistics\n",
    "* Write a function to compute the Simple Linear Regression weights using the closed form solution\n",
    "* Write a function to make predictions of the output given the input feature\n",
    "* Turn the regression around to predict the input given the output\n",
    "* Compare two different models for predicting house prices\n",
    "\n",
    "In this notebook you will be provided with some already complete code as well as some code that you should complete yourself in order to answer quiz questions. The code we provide to complte is optional and is there to assist you with solving the problems but feel free to ignore the helper code and write your own."
   ]
  },
  {
   "cell_type": "markdown",
   "metadata": {},
   "source": [
    "# Fire up graphlab create"
   ]
  },
  {
   "cell_type": "code",
   "execution_count": 1,
   "metadata": {
    "collapsed": false
   },
   "outputs": [],
   "source": [
    "import graphlab"
   ]
  },
  {
   "cell_type": "markdown",
   "metadata": {},
   "source": [
    "# Load house sales data\n",
    "\n",
    "Dataset is from house sales in King County, the region where the city of Seattle, WA is located."
   ]
  },
  {
   "cell_type": "code",
   "execution_count": 2,
   "metadata": {
    "collapsed": false
   },
   "outputs": [
    {
     "name": "stderr",
     "output_type": "stream",
     "text": [
      "[INFO] \u001b[1;32m1448997613 : INFO:     (initialize_globals_from_environment:282): Setting configuration variable GRAPHLAB_FILEIO_ALTERNATIVE_SSL_CERT_FILE to /Users/KatrinaNi/anaconda/envs/dato-env/lib/python2.7/site-packages/certifi/cacert.pem\n",
      "\u001b[0m\u001b[1;32m1448997613 : INFO:     (initialize_globals_from_environment:282): Setting configuration variable GRAPHLAB_FILEIO_ALTERNATIVE_SSL_CERT_DIR to \n",
      "\u001b[0mThis non-commercial license of GraphLab Create is assigned to lichenni1990@gmail.com and will expire on September 21, 2016. For commercial licensing options, visit https://dato.com/buy/.\n",
      "\n",
      "[INFO] Start server at: ipc:///tmp/graphlab_server-1070 - Server binary: /Users/KatrinaNi/anaconda/envs/dato-env/lib/python2.7/site-packages/graphlab/unity_server - Server log: /tmp/graphlab_server_1448997613.log\n",
      "[INFO] GraphLab Server Version: 1.7.1\n"
     ]
    }
   ],
   "source": [
    "sales = graphlab.SFrame('kc_house_data.gl/')"
   ]
  },
  {
   "cell_type": "code",
   "execution_count": 30,
   "metadata": {
    "collapsed": false
   },
   "outputs": [
    {
     "data": {
      "text/html": [
       "<div style=\"max-height:1000px;max-width:1500px;overflow:auto;\"><table frame=\"box\" rules=\"cols\">\n",
       "    <tr>\n",
       "        <th style=\"padding-left: 1em; padding-right: 1em; text-align: center\">id</th>\n",
       "        <th style=\"padding-left: 1em; padding-right: 1em; text-align: center\">date</th>\n",
       "        <th style=\"padding-left: 1em; padding-right: 1em; text-align: center\">price</th>\n",
       "        <th style=\"padding-left: 1em; padding-right: 1em; text-align: center\">bedrooms</th>\n",
       "        <th style=\"padding-left: 1em; padding-right: 1em; text-align: center\">bathrooms</th>\n",
       "        <th style=\"padding-left: 1em; padding-right: 1em; text-align: center\">sqft_living</th>\n",
       "        <th style=\"padding-left: 1em; padding-right: 1em; text-align: center\">sqft_lot</th>\n",
       "        <th style=\"padding-left: 1em; padding-right: 1em; text-align: center\">floors</th>\n",
       "        <th style=\"padding-left: 1em; padding-right: 1em; text-align: center\">waterfront</th>\n",
       "    </tr>\n",
       "    <tr>\n",
       "        <td style=\"padding-left: 1em; padding-right: 1em; text-align: center; vertical-align: top\">7129300520</td>\n",
       "        <td style=\"padding-left: 1em; padding-right: 1em; text-align: center; vertical-align: top\">2014-10-13 00:00:00+00:00</td>\n",
       "        <td style=\"padding-left: 1em; padding-right: 1em; text-align: center; vertical-align: top\">221900.0</td>\n",
       "        <td style=\"padding-left: 1em; padding-right: 1em; text-align: center; vertical-align: top\">3.0</td>\n",
       "        <td style=\"padding-left: 1em; padding-right: 1em; text-align: center; vertical-align: top\">1.0</td>\n",
       "        <td style=\"padding-left: 1em; padding-right: 1em; text-align: center; vertical-align: top\">1180.0</td>\n",
       "        <td style=\"padding-left: 1em; padding-right: 1em; text-align: center; vertical-align: top\">5650</td>\n",
       "        <td style=\"padding-left: 1em; padding-right: 1em; text-align: center; vertical-align: top\">1</td>\n",
       "        <td style=\"padding-left: 1em; padding-right: 1em; text-align: center; vertical-align: top\">0</td>\n",
       "    </tr>\n",
       "    <tr>\n",
       "        <td style=\"padding-left: 1em; padding-right: 1em; text-align: center; vertical-align: top\">6414100192</td>\n",
       "        <td style=\"padding-left: 1em; padding-right: 1em; text-align: center; vertical-align: top\">2014-12-09 00:00:00+00:00</td>\n",
       "        <td style=\"padding-left: 1em; padding-right: 1em; text-align: center; vertical-align: top\">538000.0</td>\n",
       "        <td style=\"padding-left: 1em; padding-right: 1em; text-align: center; vertical-align: top\">3.0</td>\n",
       "        <td style=\"padding-left: 1em; padding-right: 1em; text-align: center; vertical-align: top\">2.25</td>\n",
       "        <td style=\"padding-left: 1em; padding-right: 1em; text-align: center; vertical-align: top\">2570.0</td>\n",
       "        <td style=\"padding-left: 1em; padding-right: 1em; text-align: center; vertical-align: top\">7242</td>\n",
       "        <td style=\"padding-left: 1em; padding-right: 1em; text-align: center; vertical-align: top\">2</td>\n",
       "        <td style=\"padding-left: 1em; padding-right: 1em; text-align: center; vertical-align: top\">0</td>\n",
       "    </tr>\n",
       "    <tr>\n",
       "        <td style=\"padding-left: 1em; padding-right: 1em; text-align: center; vertical-align: top\">5631500400</td>\n",
       "        <td style=\"padding-left: 1em; padding-right: 1em; text-align: center; vertical-align: top\">2015-02-25 00:00:00+00:00</td>\n",
       "        <td style=\"padding-left: 1em; padding-right: 1em; text-align: center; vertical-align: top\">180000.0</td>\n",
       "        <td style=\"padding-left: 1em; padding-right: 1em; text-align: center; vertical-align: top\">2.0</td>\n",
       "        <td style=\"padding-left: 1em; padding-right: 1em; text-align: center; vertical-align: top\">1.0</td>\n",
       "        <td style=\"padding-left: 1em; padding-right: 1em; text-align: center; vertical-align: top\">770.0</td>\n",
       "        <td style=\"padding-left: 1em; padding-right: 1em; text-align: center; vertical-align: top\">10000</td>\n",
       "        <td style=\"padding-left: 1em; padding-right: 1em; text-align: center; vertical-align: top\">1</td>\n",
       "        <td style=\"padding-left: 1em; padding-right: 1em; text-align: center; vertical-align: top\">0</td>\n",
       "    </tr>\n",
       "    <tr>\n",
       "        <td style=\"padding-left: 1em; padding-right: 1em; text-align: center; vertical-align: top\">2487200875</td>\n",
       "        <td style=\"padding-left: 1em; padding-right: 1em; text-align: center; vertical-align: top\">2014-12-09 00:00:00+00:00</td>\n",
       "        <td style=\"padding-left: 1em; padding-right: 1em; text-align: center; vertical-align: top\">604000.0</td>\n",
       "        <td style=\"padding-left: 1em; padding-right: 1em; text-align: center; vertical-align: top\">4.0</td>\n",
       "        <td style=\"padding-left: 1em; padding-right: 1em; text-align: center; vertical-align: top\">3.0</td>\n",
       "        <td style=\"padding-left: 1em; padding-right: 1em; text-align: center; vertical-align: top\">1960.0</td>\n",
       "        <td style=\"padding-left: 1em; padding-right: 1em; text-align: center; vertical-align: top\">5000</td>\n",
       "        <td style=\"padding-left: 1em; padding-right: 1em; text-align: center; vertical-align: top\">1</td>\n",
       "        <td style=\"padding-left: 1em; padding-right: 1em; text-align: center; vertical-align: top\">0</td>\n",
       "    </tr>\n",
       "    <tr>\n",
       "        <td style=\"padding-left: 1em; padding-right: 1em; text-align: center; vertical-align: top\">1954400510</td>\n",
       "        <td style=\"padding-left: 1em; padding-right: 1em; text-align: center; vertical-align: top\">2015-02-18 00:00:00+00:00</td>\n",
       "        <td style=\"padding-left: 1em; padding-right: 1em; text-align: center; vertical-align: top\">510000.0</td>\n",
       "        <td style=\"padding-left: 1em; padding-right: 1em; text-align: center; vertical-align: top\">3.0</td>\n",
       "        <td style=\"padding-left: 1em; padding-right: 1em; text-align: center; vertical-align: top\">2.0</td>\n",
       "        <td style=\"padding-left: 1em; padding-right: 1em; text-align: center; vertical-align: top\">1680.0</td>\n",
       "        <td style=\"padding-left: 1em; padding-right: 1em; text-align: center; vertical-align: top\">8080</td>\n",
       "        <td style=\"padding-left: 1em; padding-right: 1em; text-align: center; vertical-align: top\">1</td>\n",
       "        <td style=\"padding-left: 1em; padding-right: 1em; text-align: center; vertical-align: top\">0</td>\n",
       "    </tr>\n",
       "    <tr>\n",
       "        <td style=\"padding-left: 1em; padding-right: 1em; text-align: center; vertical-align: top\">7237550310</td>\n",
       "        <td style=\"padding-left: 1em; padding-right: 1em; text-align: center; vertical-align: top\">2014-05-12 00:00:00+00:00</td>\n",
       "        <td style=\"padding-left: 1em; padding-right: 1em; text-align: center; vertical-align: top\">1225000.0</td>\n",
       "        <td style=\"padding-left: 1em; padding-right: 1em; text-align: center; vertical-align: top\">4.0</td>\n",
       "        <td style=\"padding-left: 1em; padding-right: 1em; text-align: center; vertical-align: top\">4.5</td>\n",
       "        <td style=\"padding-left: 1em; padding-right: 1em; text-align: center; vertical-align: top\">5420.0</td>\n",
       "        <td style=\"padding-left: 1em; padding-right: 1em; text-align: center; vertical-align: top\">101930</td>\n",
       "        <td style=\"padding-left: 1em; padding-right: 1em; text-align: center; vertical-align: top\">1</td>\n",
       "        <td style=\"padding-left: 1em; padding-right: 1em; text-align: center; vertical-align: top\">0</td>\n",
       "    </tr>\n",
       "    <tr>\n",
       "        <td style=\"padding-left: 1em; padding-right: 1em; text-align: center; vertical-align: top\">1321400060</td>\n",
       "        <td style=\"padding-left: 1em; padding-right: 1em; text-align: center; vertical-align: top\">2014-06-27 00:00:00+00:00</td>\n",
       "        <td style=\"padding-left: 1em; padding-right: 1em; text-align: center; vertical-align: top\">257500.0</td>\n",
       "        <td style=\"padding-left: 1em; padding-right: 1em; text-align: center; vertical-align: top\">3.0</td>\n",
       "        <td style=\"padding-left: 1em; padding-right: 1em; text-align: center; vertical-align: top\">2.25</td>\n",
       "        <td style=\"padding-left: 1em; padding-right: 1em; text-align: center; vertical-align: top\">1715.0</td>\n",
       "        <td style=\"padding-left: 1em; padding-right: 1em; text-align: center; vertical-align: top\">6819</td>\n",
       "        <td style=\"padding-left: 1em; padding-right: 1em; text-align: center; vertical-align: top\">2</td>\n",
       "        <td style=\"padding-left: 1em; padding-right: 1em; text-align: center; vertical-align: top\">0</td>\n",
       "    </tr>\n",
       "    <tr>\n",
       "        <td style=\"padding-left: 1em; padding-right: 1em; text-align: center; vertical-align: top\">2008000270</td>\n",
       "        <td style=\"padding-left: 1em; padding-right: 1em; text-align: center; vertical-align: top\">2015-01-15 00:00:00+00:00</td>\n",
       "        <td style=\"padding-left: 1em; padding-right: 1em; text-align: center; vertical-align: top\">291850.0</td>\n",
       "        <td style=\"padding-left: 1em; padding-right: 1em; text-align: center; vertical-align: top\">3.0</td>\n",
       "        <td style=\"padding-left: 1em; padding-right: 1em; text-align: center; vertical-align: top\">1.5</td>\n",
       "        <td style=\"padding-left: 1em; padding-right: 1em; text-align: center; vertical-align: top\">1060.0</td>\n",
       "        <td style=\"padding-left: 1em; padding-right: 1em; text-align: center; vertical-align: top\">9711</td>\n",
       "        <td style=\"padding-left: 1em; padding-right: 1em; text-align: center; vertical-align: top\">1</td>\n",
       "        <td style=\"padding-left: 1em; padding-right: 1em; text-align: center; vertical-align: top\">0</td>\n",
       "    </tr>\n",
       "    <tr>\n",
       "        <td style=\"padding-left: 1em; padding-right: 1em; text-align: center; vertical-align: top\">2414600126</td>\n",
       "        <td style=\"padding-left: 1em; padding-right: 1em; text-align: center; vertical-align: top\">2015-04-15 00:00:00+00:00</td>\n",
       "        <td style=\"padding-left: 1em; padding-right: 1em; text-align: center; vertical-align: top\">229500.0</td>\n",
       "        <td style=\"padding-left: 1em; padding-right: 1em; text-align: center; vertical-align: top\">3.0</td>\n",
       "        <td style=\"padding-left: 1em; padding-right: 1em; text-align: center; vertical-align: top\">1.0</td>\n",
       "        <td style=\"padding-left: 1em; padding-right: 1em; text-align: center; vertical-align: top\">1780.0</td>\n",
       "        <td style=\"padding-left: 1em; padding-right: 1em; text-align: center; vertical-align: top\">7470</td>\n",
       "        <td style=\"padding-left: 1em; padding-right: 1em; text-align: center; vertical-align: top\">1</td>\n",
       "        <td style=\"padding-left: 1em; padding-right: 1em; text-align: center; vertical-align: top\">0</td>\n",
       "    </tr>\n",
       "    <tr>\n",
       "        <td style=\"padding-left: 1em; padding-right: 1em; text-align: center; vertical-align: top\">3793500160</td>\n",
       "        <td style=\"padding-left: 1em; padding-right: 1em; text-align: center; vertical-align: top\">2015-03-12 00:00:00+00:00</td>\n",
       "        <td style=\"padding-left: 1em; padding-right: 1em; text-align: center; vertical-align: top\">323000.0</td>\n",
       "        <td style=\"padding-left: 1em; padding-right: 1em; text-align: center; vertical-align: top\">3.0</td>\n",
       "        <td style=\"padding-left: 1em; padding-right: 1em; text-align: center; vertical-align: top\">2.5</td>\n",
       "        <td style=\"padding-left: 1em; padding-right: 1em; text-align: center; vertical-align: top\">1890.0</td>\n",
       "        <td style=\"padding-left: 1em; padding-right: 1em; text-align: center; vertical-align: top\">6560</td>\n",
       "        <td style=\"padding-left: 1em; padding-right: 1em; text-align: center; vertical-align: top\">2</td>\n",
       "        <td style=\"padding-left: 1em; padding-right: 1em; text-align: center; vertical-align: top\">0</td>\n",
       "    </tr>\n",
       "</table>\n",
       "<table frame=\"box\" rules=\"cols\">\n",
       "    <tr>\n",
       "        <th style=\"padding-left: 1em; padding-right: 1em; text-align: center\">view</th>\n",
       "        <th style=\"padding-left: 1em; padding-right: 1em; text-align: center\">condition</th>\n",
       "        <th style=\"padding-left: 1em; padding-right: 1em; text-align: center\">grade</th>\n",
       "        <th style=\"padding-left: 1em; padding-right: 1em; text-align: center\">sqft_above</th>\n",
       "        <th style=\"padding-left: 1em; padding-right: 1em; text-align: center\">sqft_basement</th>\n",
       "        <th style=\"padding-left: 1em; padding-right: 1em; text-align: center\">yr_built</th>\n",
       "        <th style=\"padding-left: 1em; padding-right: 1em; text-align: center\">yr_renovated</th>\n",
       "        <th style=\"padding-left: 1em; padding-right: 1em; text-align: center\">zipcode</th>\n",
       "        <th style=\"padding-left: 1em; padding-right: 1em; text-align: center\">lat</th>\n",
       "    </tr>\n",
       "    <tr>\n",
       "        <td style=\"padding-left: 1em; padding-right: 1em; text-align: center; vertical-align: top\">0</td>\n",
       "        <td style=\"padding-left: 1em; padding-right: 1em; text-align: center; vertical-align: top\">3</td>\n",
       "        <td style=\"padding-left: 1em; padding-right: 1em; text-align: center; vertical-align: top\">7</td>\n",
       "        <td style=\"padding-left: 1em; padding-right: 1em; text-align: center; vertical-align: top\">1180</td>\n",
       "        <td style=\"padding-left: 1em; padding-right: 1em; text-align: center; vertical-align: top\">0</td>\n",
       "        <td style=\"padding-left: 1em; padding-right: 1em; text-align: center; vertical-align: top\">1955</td>\n",
       "        <td style=\"padding-left: 1em; padding-right: 1em; text-align: center; vertical-align: top\">0</td>\n",
       "        <td style=\"padding-left: 1em; padding-right: 1em; text-align: center; vertical-align: top\">98178</td>\n",
       "        <td style=\"padding-left: 1em; padding-right: 1em; text-align: center; vertical-align: top\">47.51123398</td>\n",
       "    </tr>\n",
       "    <tr>\n",
       "        <td style=\"padding-left: 1em; padding-right: 1em; text-align: center; vertical-align: top\">0</td>\n",
       "        <td style=\"padding-left: 1em; padding-right: 1em; text-align: center; vertical-align: top\">3</td>\n",
       "        <td style=\"padding-left: 1em; padding-right: 1em; text-align: center; vertical-align: top\">7</td>\n",
       "        <td style=\"padding-left: 1em; padding-right: 1em; text-align: center; vertical-align: top\">2170</td>\n",
       "        <td style=\"padding-left: 1em; padding-right: 1em; text-align: center; vertical-align: top\">400</td>\n",
       "        <td style=\"padding-left: 1em; padding-right: 1em; text-align: center; vertical-align: top\">1951</td>\n",
       "        <td style=\"padding-left: 1em; padding-right: 1em; text-align: center; vertical-align: top\">1991</td>\n",
       "        <td style=\"padding-left: 1em; padding-right: 1em; text-align: center; vertical-align: top\">98125</td>\n",
       "        <td style=\"padding-left: 1em; padding-right: 1em; text-align: center; vertical-align: top\">47.72102274</td>\n",
       "    </tr>\n",
       "    <tr>\n",
       "        <td style=\"padding-left: 1em; padding-right: 1em; text-align: center; vertical-align: top\">0</td>\n",
       "        <td style=\"padding-left: 1em; padding-right: 1em; text-align: center; vertical-align: top\">3</td>\n",
       "        <td style=\"padding-left: 1em; padding-right: 1em; text-align: center; vertical-align: top\">6</td>\n",
       "        <td style=\"padding-left: 1em; padding-right: 1em; text-align: center; vertical-align: top\">770</td>\n",
       "        <td style=\"padding-left: 1em; padding-right: 1em; text-align: center; vertical-align: top\">0</td>\n",
       "        <td style=\"padding-left: 1em; padding-right: 1em; text-align: center; vertical-align: top\">1933</td>\n",
       "        <td style=\"padding-left: 1em; padding-right: 1em; text-align: center; vertical-align: top\">0</td>\n",
       "        <td style=\"padding-left: 1em; padding-right: 1em; text-align: center; vertical-align: top\">98028</td>\n",
       "        <td style=\"padding-left: 1em; padding-right: 1em; text-align: center; vertical-align: top\">47.73792661</td>\n",
       "    </tr>\n",
       "    <tr>\n",
       "        <td style=\"padding-left: 1em; padding-right: 1em; text-align: center; vertical-align: top\">0</td>\n",
       "        <td style=\"padding-left: 1em; padding-right: 1em; text-align: center; vertical-align: top\">5</td>\n",
       "        <td style=\"padding-left: 1em; padding-right: 1em; text-align: center; vertical-align: top\">7</td>\n",
       "        <td style=\"padding-left: 1em; padding-right: 1em; text-align: center; vertical-align: top\">1050</td>\n",
       "        <td style=\"padding-left: 1em; padding-right: 1em; text-align: center; vertical-align: top\">910</td>\n",
       "        <td style=\"padding-left: 1em; padding-right: 1em; text-align: center; vertical-align: top\">1965</td>\n",
       "        <td style=\"padding-left: 1em; padding-right: 1em; text-align: center; vertical-align: top\">0</td>\n",
       "        <td style=\"padding-left: 1em; padding-right: 1em; text-align: center; vertical-align: top\">98136</td>\n",
       "        <td style=\"padding-left: 1em; padding-right: 1em; text-align: center; vertical-align: top\">47.52082</td>\n",
       "    </tr>\n",
       "    <tr>\n",
       "        <td style=\"padding-left: 1em; padding-right: 1em; text-align: center; vertical-align: top\">0</td>\n",
       "        <td style=\"padding-left: 1em; padding-right: 1em; text-align: center; vertical-align: top\">3</td>\n",
       "        <td style=\"padding-left: 1em; padding-right: 1em; text-align: center; vertical-align: top\">8</td>\n",
       "        <td style=\"padding-left: 1em; padding-right: 1em; text-align: center; vertical-align: top\">1680</td>\n",
       "        <td style=\"padding-left: 1em; padding-right: 1em; text-align: center; vertical-align: top\">0</td>\n",
       "        <td style=\"padding-left: 1em; padding-right: 1em; text-align: center; vertical-align: top\">1987</td>\n",
       "        <td style=\"padding-left: 1em; padding-right: 1em; text-align: center; vertical-align: top\">0</td>\n",
       "        <td style=\"padding-left: 1em; padding-right: 1em; text-align: center; vertical-align: top\">98074</td>\n",
       "        <td style=\"padding-left: 1em; padding-right: 1em; text-align: center; vertical-align: top\">47.61681228</td>\n",
       "    </tr>\n",
       "    <tr>\n",
       "        <td style=\"padding-left: 1em; padding-right: 1em; text-align: center; vertical-align: top\">0</td>\n",
       "        <td style=\"padding-left: 1em; padding-right: 1em; text-align: center; vertical-align: top\">3</td>\n",
       "        <td style=\"padding-left: 1em; padding-right: 1em; text-align: center; vertical-align: top\">11</td>\n",
       "        <td style=\"padding-left: 1em; padding-right: 1em; text-align: center; vertical-align: top\">3890</td>\n",
       "        <td style=\"padding-left: 1em; padding-right: 1em; text-align: center; vertical-align: top\">1530</td>\n",
       "        <td style=\"padding-left: 1em; padding-right: 1em; text-align: center; vertical-align: top\">2001</td>\n",
       "        <td style=\"padding-left: 1em; padding-right: 1em; text-align: center; vertical-align: top\">0</td>\n",
       "        <td style=\"padding-left: 1em; padding-right: 1em; text-align: center; vertical-align: top\">98053</td>\n",
       "        <td style=\"padding-left: 1em; padding-right: 1em; text-align: center; vertical-align: top\">47.65611835</td>\n",
       "    </tr>\n",
       "    <tr>\n",
       "        <td style=\"padding-left: 1em; padding-right: 1em; text-align: center; vertical-align: top\">0</td>\n",
       "        <td style=\"padding-left: 1em; padding-right: 1em; text-align: center; vertical-align: top\">3</td>\n",
       "        <td style=\"padding-left: 1em; padding-right: 1em; text-align: center; vertical-align: top\">7</td>\n",
       "        <td style=\"padding-left: 1em; padding-right: 1em; text-align: center; vertical-align: top\">1715</td>\n",
       "        <td style=\"padding-left: 1em; padding-right: 1em; text-align: center; vertical-align: top\">0</td>\n",
       "        <td style=\"padding-left: 1em; padding-right: 1em; text-align: center; vertical-align: top\">1995</td>\n",
       "        <td style=\"padding-left: 1em; padding-right: 1em; text-align: center; vertical-align: top\">0</td>\n",
       "        <td style=\"padding-left: 1em; padding-right: 1em; text-align: center; vertical-align: top\">98003</td>\n",
       "        <td style=\"padding-left: 1em; padding-right: 1em; text-align: center; vertical-align: top\">47.30972002</td>\n",
       "    </tr>\n",
       "    <tr>\n",
       "        <td style=\"padding-left: 1em; padding-right: 1em; text-align: center; vertical-align: top\">0</td>\n",
       "        <td style=\"padding-left: 1em; padding-right: 1em; text-align: center; vertical-align: top\">3</td>\n",
       "        <td style=\"padding-left: 1em; padding-right: 1em; text-align: center; vertical-align: top\">7</td>\n",
       "        <td style=\"padding-left: 1em; padding-right: 1em; text-align: center; vertical-align: top\">1060</td>\n",
       "        <td style=\"padding-left: 1em; padding-right: 1em; text-align: center; vertical-align: top\">0</td>\n",
       "        <td style=\"padding-left: 1em; padding-right: 1em; text-align: center; vertical-align: top\">1963</td>\n",
       "        <td style=\"padding-left: 1em; padding-right: 1em; text-align: center; vertical-align: top\">0</td>\n",
       "        <td style=\"padding-left: 1em; padding-right: 1em; text-align: center; vertical-align: top\">98198</td>\n",
       "        <td style=\"padding-left: 1em; padding-right: 1em; text-align: center; vertical-align: top\">47.40949984</td>\n",
       "    </tr>\n",
       "    <tr>\n",
       "        <td style=\"padding-left: 1em; padding-right: 1em; text-align: center; vertical-align: top\">0</td>\n",
       "        <td style=\"padding-left: 1em; padding-right: 1em; text-align: center; vertical-align: top\">3</td>\n",
       "        <td style=\"padding-left: 1em; padding-right: 1em; text-align: center; vertical-align: top\">7</td>\n",
       "        <td style=\"padding-left: 1em; padding-right: 1em; text-align: center; vertical-align: top\">1050</td>\n",
       "        <td style=\"padding-left: 1em; padding-right: 1em; text-align: center; vertical-align: top\">730</td>\n",
       "        <td style=\"padding-left: 1em; padding-right: 1em; text-align: center; vertical-align: top\">1960</td>\n",
       "        <td style=\"padding-left: 1em; padding-right: 1em; text-align: center; vertical-align: top\">0</td>\n",
       "        <td style=\"padding-left: 1em; padding-right: 1em; text-align: center; vertical-align: top\">98146</td>\n",
       "        <td style=\"padding-left: 1em; padding-right: 1em; text-align: center; vertical-align: top\">47.51229381</td>\n",
       "    </tr>\n",
       "    <tr>\n",
       "        <td style=\"padding-left: 1em; padding-right: 1em; text-align: center; vertical-align: top\">0</td>\n",
       "        <td style=\"padding-left: 1em; padding-right: 1em; text-align: center; vertical-align: top\">3</td>\n",
       "        <td style=\"padding-left: 1em; padding-right: 1em; text-align: center; vertical-align: top\">7</td>\n",
       "        <td style=\"padding-left: 1em; padding-right: 1em; text-align: center; vertical-align: top\">1890</td>\n",
       "        <td style=\"padding-left: 1em; padding-right: 1em; text-align: center; vertical-align: top\">0</td>\n",
       "        <td style=\"padding-left: 1em; padding-right: 1em; text-align: center; vertical-align: top\">2003</td>\n",
       "        <td style=\"padding-left: 1em; padding-right: 1em; text-align: center; vertical-align: top\">0</td>\n",
       "        <td style=\"padding-left: 1em; padding-right: 1em; text-align: center; vertical-align: top\">98038</td>\n",
       "        <td style=\"padding-left: 1em; padding-right: 1em; text-align: center; vertical-align: top\">47.36840673</td>\n",
       "    </tr>\n",
       "</table>\n",
       "<table frame=\"box\" rules=\"cols\">\n",
       "    <tr>\n",
       "        <th style=\"padding-left: 1em; padding-right: 1em; text-align: center\">long</th>\n",
       "        <th style=\"padding-left: 1em; padding-right: 1em; text-align: center\">sqft_living15</th>\n",
       "        <th style=\"padding-left: 1em; padding-right: 1em; text-align: center\">sqft_lot15</th>\n",
       "    </tr>\n",
       "    <tr>\n",
       "        <td style=\"padding-left: 1em; padding-right: 1em; text-align: center; vertical-align: top\">-122.25677536</td>\n",
       "        <td style=\"padding-left: 1em; padding-right: 1em; text-align: center; vertical-align: top\">1340.0</td>\n",
       "        <td style=\"padding-left: 1em; padding-right: 1em; text-align: center; vertical-align: top\">5650.0</td>\n",
       "    </tr>\n",
       "    <tr>\n",
       "        <td style=\"padding-left: 1em; padding-right: 1em; text-align: center; vertical-align: top\">-122.3188624</td>\n",
       "        <td style=\"padding-left: 1em; padding-right: 1em; text-align: center; vertical-align: top\">1690.0</td>\n",
       "        <td style=\"padding-left: 1em; padding-right: 1em; text-align: center; vertical-align: top\">7639.0</td>\n",
       "    </tr>\n",
       "    <tr>\n",
       "        <td style=\"padding-left: 1em; padding-right: 1em; text-align: center; vertical-align: top\">-122.23319601</td>\n",
       "        <td style=\"padding-left: 1em; padding-right: 1em; text-align: center; vertical-align: top\">2720.0</td>\n",
       "        <td style=\"padding-left: 1em; padding-right: 1em; text-align: center; vertical-align: top\">8062.0</td>\n",
       "    </tr>\n",
       "    <tr>\n",
       "        <td style=\"padding-left: 1em; padding-right: 1em; text-align: center; vertical-align: top\">-122.39318505</td>\n",
       "        <td style=\"padding-left: 1em; padding-right: 1em; text-align: center; vertical-align: top\">1360.0</td>\n",
       "        <td style=\"padding-left: 1em; padding-right: 1em; text-align: center; vertical-align: top\">5000.0</td>\n",
       "    </tr>\n",
       "    <tr>\n",
       "        <td style=\"padding-left: 1em; padding-right: 1em; text-align: center; vertical-align: top\">-122.04490059</td>\n",
       "        <td style=\"padding-left: 1em; padding-right: 1em; text-align: center; vertical-align: top\">1800.0</td>\n",
       "        <td style=\"padding-left: 1em; padding-right: 1em; text-align: center; vertical-align: top\">7503.0</td>\n",
       "    </tr>\n",
       "    <tr>\n",
       "        <td style=\"padding-left: 1em; padding-right: 1em; text-align: center; vertical-align: top\">-122.00528655</td>\n",
       "        <td style=\"padding-left: 1em; padding-right: 1em; text-align: center; vertical-align: top\">4760.0</td>\n",
       "        <td style=\"padding-left: 1em; padding-right: 1em; text-align: center; vertical-align: top\">101930.0</td>\n",
       "    </tr>\n",
       "    <tr>\n",
       "        <td style=\"padding-left: 1em; padding-right: 1em; text-align: center; vertical-align: top\">-122.32704857</td>\n",
       "        <td style=\"padding-left: 1em; padding-right: 1em; text-align: center; vertical-align: top\">2238.0</td>\n",
       "        <td style=\"padding-left: 1em; padding-right: 1em; text-align: center; vertical-align: top\">6819.0</td>\n",
       "    </tr>\n",
       "    <tr>\n",
       "        <td style=\"padding-left: 1em; padding-right: 1em; text-align: center; vertical-align: top\">-122.31457273</td>\n",
       "        <td style=\"padding-left: 1em; padding-right: 1em; text-align: center; vertical-align: top\">1650.0</td>\n",
       "        <td style=\"padding-left: 1em; padding-right: 1em; text-align: center; vertical-align: top\">9711.0</td>\n",
       "    </tr>\n",
       "    <tr>\n",
       "        <td style=\"padding-left: 1em; padding-right: 1em; text-align: center; vertical-align: top\">-122.33659507</td>\n",
       "        <td style=\"padding-left: 1em; padding-right: 1em; text-align: center; vertical-align: top\">1780.0</td>\n",
       "        <td style=\"padding-left: 1em; padding-right: 1em; text-align: center; vertical-align: top\">8113.0</td>\n",
       "    </tr>\n",
       "    <tr>\n",
       "        <td style=\"padding-left: 1em; padding-right: 1em; text-align: center; vertical-align: top\">-122.0308176</td>\n",
       "        <td style=\"padding-left: 1em; padding-right: 1em; text-align: center; vertical-align: top\">2390.0</td>\n",
       "        <td style=\"padding-left: 1em; padding-right: 1em; text-align: center; vertical-align: top\">7570.0</td>\n",
       "    </tr>\n",
       "</table>\n",
       "[21613 rows x 21 columns]<br/>Note: Only the head of the SFrame is printed.<br/>You can use print_rows(num_rows=m, num_columns=n) to print more rows and columns.\n",
       "</div>"
      ],
      "text/plain": [
       "Columns:\n",
       "\tid\tstr\n",
       "\tdate\tdatetime\n",
       "\tprice\tfloat\n",
       "\tbedrooms\tfloat\n",
       "\tbathrooms\tfloat\n",
       "\tsqft_living\tfloat\n",
       "\tsqft_lot\tint\n",
       "\tfloors\tstr\n",
       "\twaterfront\tint\n",
       "\tview\tint\n",
       "\tcondition\tint\n",
       "\tgrade\tint\n",
       "\tsqft_above\tint\n",
       "\tsqft_basement\tint\n",
       "\tyr_built\tint\n",
       "\tyr_renovated\tint\n",
       "\tzipcode\tstr\n",
       "\tlat\tfloat\n",
       "\tlong\tfloat\n",
       "\tsqft_living15\tfloat\n",
       "\tsqft_lot15\tfloat\n",
       "\n",
       "Rows: 21613\n",
       "\n",
       "Data:\n",
       "+------------+---------------------------+-----------+----------+-----------+\n",
       "|     id     |            date           |   price   | bedrooms | bathrooms |\n",
       "+------------+---------------------------+-----------+----------+-----------+\n",
       "| 7129300520 | 2014-10-13 00:00:00+00:00 |  221900.0 |   3.0    |    1.0    |\n",
       "| 6414100192 | 2014-12-09 00:00:00+00:00 |  538000.0 |   3.0    |    2.25   |\n",
       "| 5631500400 | 2015-02-25 00:00:00+00:00 |  180000.0 |   2.0    |    1.0    |\n",
       "| 2487200875 | 2014-12-09 00:00:00+00:00 |  604000.0 |   4.0    |    3.0    |\n",
       "| 1954400510 | 2015-02-18 00:00:00+00:00 |  510000.0 |   3.0    |    2.0    |\n",
       "| 7237550310 | 2014-05-12 00:00:00+00:00 | 1225000.0 |   4.0    |    4.5    |\n",
       "| 1321400060 | 2014-06-27 00:00:00+00:00 |  257500.0 |   3.0    |    2.25   |\n",
       "| 2008000270 | 2015-01-15 00:00:00+00:00 |  291850.0 |   3.0    |    1.5    |\n",
       "| 2414600126 | 2015-04-15 00:00:00+00:00 |  229500.0 |   3.0    |    1.0    |\n",
       "| 3793500160 | 2015-03-12 00:00:00+00:00 |  323000.0 |   3.0    |    2.5    |\n",
       "+------------+---------------------------+-----------+----------+-----------+\n",
       "+-------------+----------+--------+------------+------+-----------+-------+------------+\n",
       "| sqft_living | sqft_lot | floors | waterfront | view | condition | grade | sqft_above |\n",
       "+-------------+----------+--------+------------+------+-----------+-------+------------+\n",
       "|    1180.0   |   5650   |   1    |     0      |  0   |     3     |   7   |    1180    |\n",
       "|    2570.0   |   7242   |   2    |     0      |  0   |     3     |   7   |    2170    |\n",
       "|    770.0    |  10000   |   1    |     0      |  0   |     3     |   6   |    770     |\n",
       "|    1960.0   |   5000   |   1    |     0      |  0   |     5     |   7   |    1050    |\n",
       "|    1680.0   |   8080   |   1    |     0      |  0   |     3     |   8   |    1680    |\n",
       "|    5420.0   |  101930  |   1    |     0      |  0   |     3     |   11  |    3890    |\n",
       "|    1715.0   |   6819   |   2    |     0      |  0   |     3     |   7   |    1715    |\n",
       "|    1060.0   |   9711   |   1    |     0      |  0   |     3     |   7   |    1060    |\n",
       "|    1780.0   |   7470   |   1    |     0      |  0   |     3     |   7   |    1050    |\n",
       "|    1890.0   |   6560   |   2    |     0      |  0   |     3     |   7   |    1890    |\n",
       "+-------------+----------+--------+------------+------+-----------+-------+------------+\n",
       "+---------------+----------+--------------+---------+-------------+\n",
       "| sqft_basement | yr_built | yr_renovated | zipcode |     lat     |\n",
       "+---------------+----------+--------------+---------+-------------+\n",
       "|       0       |   1955   |      0       |  98178  | 47.51123398 |\n",
       "|      400      |   1951   |     1991     |  98125  | 47.72102274 |\n",
       "|       0       |   1933   |      0       |  98028  | 47.73792661 |\n",
       "|      910      |   1965   |      0       |  98136  |   47.52082  |\n",
       "|       0       |   1987   |      0       |  98074  | 47.61681228 |\n",
       "|      1530     |   2001   |      0       |  98053  | 47.65611835 |\n",
       "|       0       |   1995   |      0       |  98003  | 47.30972002 |\n",
       "|       0       |   1963   |      0       |  98198  | 47.40949984 |\n",
       "|      730      |   1960   |      0       |  98146  | 47.51229381 |\n",
       "|       0       |   2003   |      0       |  98038  | 47.36840673 |\n",
       "+---------------+----------+--------------+---------+-------------+\n",
       "+---------------+---------------+-----+\n",
       "|      long     | sqft_living15 | ... |\n",
       "+---------------+---------------+-----+\n",
       "| -122.25677536 |     1340.0    | ... |\n",
       "|  -122.3188624 |     1690.0    | ... |\n",
       "| -122.23319601 |     2720.0    | ... |\n",
       "| -122.39318505 |     1360.0    | ... |\n",
       "| -122.04490059 |     1800.0    | ... |\n",
       "| -122.00528655 |     4760.0    | ... |\n",
       "| -122.32704857 |     2238.0    | ... |\n",
       "| -122.31457273 |     1650.0    | ... |\n",
       "| -122.33659507 |     1780.0    | ... |\n",
       "|  -122.0308176 |     2390.0    | ... |\n",
       "+---------------+---------------+-----+\n",
       "[21613 rows x 21 columns]\n",
       "Note: Only the head of the SFrame is printed.\n",
       "You can use print_rows(num_rows=m, num_columns=n) to print more rows and columns."
      ]
     },
     "execution_count": 30,
     "metadata": {},
     "output_type": "execute_result"
    }
   ],
   "source": [
    "sales"
   ]
  },
  {
   "cell_type": "code",
   "execution_count": 32,
   "metadata": {
    "collapsed": false
   },
   "outputs": [
    {
     "data": {
      "application/javascript": [
       "$(\"head\").append($(\"<link/>\").attr({\n",
       "  rel:  \"stylesheet\",\n",
       "  type: \"text/css\",\n",
       "  href: \"//cdnjs.cloudflare.com/ajax/libs/font-awesome/4.1.0/css/font-awesome.min.css\"\n",
       "}));\n",
       "$(\"head\").append($(\"<link/>\").attr({\n",
       "  rel:  \"stylesheet\",\n",
       "  type: \"text/css\",\n",
       "  href: \"//dato.com/files/canvas/1.7.1/css/canvas.css\"\n",
       "}));\n",
       "\n",
       "            (function(){\n",
       "\n",
       "                var e = null;\n",
       "                if (typeof element == 'undefined') {\n",
       "                    var scripts = document.getElementsByTagName('script');\n",
       "                    var thisScriptTag = scripts[scripts.length-1];\n",
       "                    var parentDiv = thisScriptTag.parentNode;\n",
       "                    e = document.createElement('div');\n",
       "                    parentDiv.appendChild(e);\n",
       "                } else {\n",
       "                    e = element[0];\n",
       "                }\n",
       "\n",
       "                if (typeof requirejs !== 'undefined') {\n",
       "                    // disable load timeout; ipython_app.js is large and can take a while to load.\n",
       "                    requirejs.config({waitSeconds: 0});\n",
       "                }\n",
       "\n",
       "                require(['//dato.com/files/canvas/1.7.1/js/ipython_app.js'], function(IPythonApp){\n",
       "                    var app = new IPythonApp();\n",
       "                    app.attachView('sframe','Plots', {\"selected_variable\": {\"name\": [\"sales\"], \"descriptives\": {\"rows\": 21613, \"columns\": 21}, \"view_component\": \"Plots\", \"view_file\": \"sframe\", \"view_params\": {\"y\": \"price\", \"x\": \"sqft_living\", \"columns\": [\"id\", \"date\", \"price\", \"bedrooms\", \"bathrooms\", \"sqft_living\", \"sqft_lot\", \"floors\", \"waterfront\", \"view\", \"condition\", \"grade\", \"sqft_above\", \"sqft_basement\", \"yr_built\", \"yr_renovated\", \"zipcode\", \"lat\", \"long\", \"sqft_living15\", \"sqft_lot15\"], \"view\": \"Scatter Plot\"}, \"view_components\": [\"Summary\", \"Table\", \"Bar Chart\", \"BoxWhisker Plot\", \"Line Chart\", \"Scatter Plot\", \"Heat Map\", \"Plots\"], \"type\": \"SFrame\", \"columns\": [{\"dtype\": \"str\", \"name\": \"id\"}, {\"dtype\": \"datetime\", \"name\": \"date\"}, {\"dtype\": \"float\", \"name\": \"price\"}, {\"dtype\": \"float\", \"name\": \"bedrooms\"}, {\"dtype\": \"float\", \"name\": \"bathrooms\"}, {\"dtype\": \"float\", \"name\": \"sqft_living\"}, {\"dtype\": \"int\", \"name\": \"sqft_lot\"}, {\"dtype\": \"str\", \"name\": \"floors\"}, {\"dtype\": \"int\", \"name\": \"waterfront\"}, {\"dtype\": \"int\", \"name\": \"view\"}, {\"dtype\": \"int\", \"name\": \"condition\"}, {\"dtype\": \"int\", \"name\": \"grade\"}, {\"dtype\": \"int\", \"name\": \"sqft_above\"}, {\"dtype\": \"int\", \"name\": \"sqft_basement\"}, {\"dtype\": \"int\", \"name\": \"yr_built\"}, {\"dtype\": \"int\", \"name\": \"yr_renovated\"}, {\"dtype\": \"str\", \"name\": \"zipcode\"}, {\"dtype\": \"float\", \"name\": \"lat\"}, {\"dtype\": \"float\", \"name\": \"long\"}, {\"dtype\": \"float\", \"name\": \"sqft_living15\"}, {\"dtype\": \"float\", \"name\": \"sqft_lot15\"}], \"column_identifiers\": [\"bathrooms\", \"sqft_living15\", \"sqft_above\", \"grade\", \"yr_built\", \"price\", \"bedrooms\", \"zipcode\", \"long\", \"id\", \"sqft_lot15\", \"sqft_living\", \"floors\", \"sqft_lot\", \"date\", \"waterfront\", \"sqft_basement\", \"yr_renovated\", \"lat\", \"condition\", \"view\"]}, \"complete\": 1, \"ipython\": true, \"progress\": 1.0, \"data\": [[1790.0, 240000.0], [3930.0, 1250000.0], [1460.0, 602000.0], [2020.0, 475000.0], [1340.0, 409500.0], [2130.0, 509000.0], [2560.0, 399500.0], [3010.0, 538000.0], [1290.0, 200000.0], [860.0, 122000.0], [1200.0, 250000.0], [1950.0, 530000.0], [1790.0, 410000.0], [1350.0, 261000.0], [2580.0, 1770000.0], [4200.0, 850000.0], [2510.0, 667000.0], [2140.0, 577500.0], [1510.0, 515000.0], [1310.0, 373000.0], [3850.0, 915000.0], [1960.0, 275000.0], [1770.0, 360000.0], [2720.0, 910000.0], [2220.0, 1425000.0], [2680.0, 470000.0], [2450.0, 937000.0], [1110.0, 343000.0], [2800.0, 405000.0], [1230.0, 375000.0], [3230.0, 605000.0], [2870.0, 2000000.0], [1040.0, 440000.0], [2990.0, 1061604.0], [1750.0, 242000.0], [2680.0, 390000.0], [1440.0, 395000.0], [1290.0, 658000.0], [3220.0, 579000.0], [1950.0, 564500.0], [1050.0, 310000.0], [1000.0, 159995.0], [1590.0, 323000.0], [3860.0, 430000.0], [5310.0, 2300000.0], [2740.0, 689900.0], [1020.0, 325000.0], [1040.0, 339888.0], [1680.0, 272000.0], [1110.0, 249000.0], [2800.0, 752875.0], [930.0, 160000.0], [2550.0, 645000.0], [1640.0, 414250.0], [2090.0, 499000.0], [1940.0, 278000.0], [3870.0, 600000.0], [1140.0, 379900.0], [3915.0, 963990.0], [1610.0, 505000.0], [1900.0, 360000.0], [1320.0, 425000.0], [3361.0, 471275.0], [1340.0, 615000.0], [1830.0, 383000.0], [2990.0, 445000.0], [2640.0, 650000.0], [1630.0, 215000.0], [1220.0, 201000.0], [970.0, 302860.0], [730.0, 122000.0], [1400.0, 432000.0], [2220.0, 558000.0], [2380.0, 360000.0], [1960.0, 450000.0], [1584.0, 263000.0], [2110.0, 747450.0], [2230.0, 325000.0], [1480.0, 598950.0], [1090.0, 200000.0], [2040.0, 575000.0], [2170.0, 850000.0], [1990.0, 359000.0], [1310.0, 300000.0], [1250.0, 308000.0], [2075.0, 430000.0], [2300.0, 308130.0], [2350.0, 613500.0], [940.0, 430000.0], [1910.0, 650000.0], [2190.0, 463000.0], [5960.0, 1140000.0], [1690.0, 515000.0], [2430.0, 255000.0], [2020.0, 560000.0], [3230.0, 572115.0], [840.0, 450600.0], [1350.0, 190000.0], [3780.0, 782000.0], [990.0, 285000.0], [2130.0, 495500.0], [3230.0, 409000.0], [1380.0, 295000.0], [1860.0, 400000.0], [1350.0, 241250.0], [2820.0, 395000.0], [1050.0, 435000.0], [3100.0, 540000.0], [1460.0, 305000.0], [3070.0, 1105000.0], [2180.0, 875000.0], [2360.0, 595000.0], [1220.0, 237200.0], [2080.0, 329950.0], [1700.0, 290000.0], [2070.0, 690000.0], [3181.0, 379900.0], [1090.0, 140000.0], [1820.0, 595000.0], [1200.0, 210000.0], [1940.0, 375000.0], [1450.0, 391500.0], [3420.0, 855000.0], [3100.0, 800000.0], [1620.0, 450000.0], [2510.0, 699950.0], [4860.0, 2950000.0], [2930.0, 420000.0], [3190.0, 589450.0], [1460.0, 180000.0], [2450.0, 500000.0], [2660.0, 667400.0], [2100.0, 342500.0], [4750.0, 1122500.0], [1770.0, 538000.0], [1030.0, 209900.0], [1810.0, 575000.0], [980.0, 452000.0], [790.0, 130000.0], [1390.0, 186950.0], [2600.0, 805000.0], [1590.0, 185000.0], [1260.0, 215000.0], [3750.0, 910000.0], [2910.0, 1810000.0], [960.0, 212625.0], [3260.0, 565000.0], [2440.0, 575000.0], [2340.0, 568000.0], [840.0, 185000.0], [2517.0, 353900.0], [2890.0, 570000.0], [1460.0, 499922.0], [2080.0, 500000.0], [2370.0, 800000.0], [3440.0, 853000.0], [2180.0, 506000.0], [1240.0, 310000.0], [2400.0, 535000.0], [1360.0, 244900.0], [920.0, 650000.0], [1840.0, 490000.0], [2370.0, 369000.0], [1640.0, 379500.0], [1540.0, 550000.0], [1970.0, 540000.0], [2540.0, 525000.0], [2040.0, 705000.0], [2200.0, 450000.0], [1370.0, 371500.0], [1540.0, 357500.0], [2070.0, 430000.0], [2070.0, 325000.0], [2220.0, 542000.0], [3830.0, 852500.0], [1440.0, 435000.0], [1890.0, 775000.0], [2700.0, 426500.0], [880.0, 215000.0], [3870.0, 1299888.0], [770.0, 269000.0], [3830.0, 1050000.0], [2020.0, 507500.0], [2790.0, 665000.0], [2340.0, 597000.0], [1590.0, 850000.0], [1570.0, 447450.0], [1470.0, 250000.0], [2260.0, 900000.0], [2300.0, 738500.0], [2300.0, 435000.0], [3200.0, 497300.0], [2280.0, 575000.0], [2050.0, 750000.0], [1220.0, 168000.0], [2050.0, 770000.0], [1280.0, 281000.0], [1190.0, 455000.0], [2070.0, 450000.0], [3480.0, 780000.0], [1250.0, 520000.0], [1270.0, 325000.0], [1430.0, 349000.0], [1800.0, 850000.0], [900.0, 305000.0], [1010.0, 337000.0], [2340.0, 510000.0], [2560.0, 790000.0], [3270.0, 1180000.0], [1490.0, 255000.0], [1340.0, 568000.0], [2410.0, 805000.0], [1250.0, 345000.0], [760.0, 530000.0], [1070.0, 455000.0], [1650.0, 465000.0], [1350.0, 345000.0], [1870.0, 285000.0], [1590.0, 299000.0], [1610.0, 659950.0], [2250.0, 950000.0], [2090.0, 455000.0], [1840.0, 599000.0], [1040.0, 580000.0], [1470.0, 652000.0], [2720.0, 365000.0], [2750.0, 710000.0], [1320.0, 300000.0], [1030.0, 310000.0], [3440.0, 1050000.0], [1750.0, 368000.0], [3230.0, 850000.0], [1920.0, 549000.0], [2640.0, 593000.0], [4210.0, 1146800.0], [1940.0, 306888.0], [1800.0, 580000.0], [1130.0, 345000.0], [3030.0, 815000.0], [4460.0, 490000.0], [990.0, 191000.0], [2390.0, 629800.0], [1480.0, 254000.0], [1480.0, 525000.0], [1850.0, 277000.0], [1360.0, 240000.0], [1970.0, 442500.0], [3220.0, 590000.0], [1340.0, 230000.0], [1470.0, 401000.0], [980.0, 295000.0], [3360.0, 455000.0], [3910.0, 961500.0], [2310.0, 646000.0], [830.0, 525000.0], [750.0, 260000.0], [800.0, 295000.0], [3450.0, 1295000.0], [3230.0, 729953.0], [1540.0, 345000.0], [2550.0, 446000.0], [2099.0, 289950.0], [1990.0, 270000.0], [2860.0, 750000.0], [2090.0, 400000.0], [2170.0, 278000.0], [770.0, 176000.0], [3210.0, 756450.0], [4133.0, 979500.0], [1970.0, 371000.0], [2450.0, 760000.0], [2400.0, 515055.0], [1700.0, 210000.0], [1790.0, 260000.0], [2260.0, 500000.0], [2130.0, 360000.0], [2290.0, 450000.0], [1980.0, 295000.0], [2540.0, 567000.0], [1440.0, 472500.0], [1510.0, 275000.0], [1370.0, 225000.0], [720.0, 235000.0], [3500.0, 780000.0], [1270.0, 435010.0], [1780.0, 615000.0], [1830.0, 250000.0], [2030.0, 485000.0], [3100.0, 905000.0], [1640.0, 500000.0], [1300.0, 237000.0], [2950.0, 630000.0], [1860.0, 380000.0], [1410.0, 267800.0], [1590.0, 349000.0], [2440.0, 530000.0], [1710.0, 560000.0], [1460.0, 427005.0], [970.0, 313300.0], [2090.0, 550000.0], [4550.0, 3075000.0], [840.0, 405100.0], [1210.0, 402000.0], [1650.0, 500000.0], [3360.0, 769995.0], [2870.0, 646000.0], [2180.0, 734000.0], [1900.0, 353000.0], [2600.0, 265000.0], [1750.0, 465000.0], [1290.0, 305000.0], [4490.0, 3120000.0], [1510.0, 420000.0], [1658.0, 263900.0], [3290.0, 449950.0], [1110.0, 252500.0], [1980.0, 309000.0], [2120.0, 637000.0], [2080.0, 480000.0], [1430.0, 255000.0], [2430.0, 405000.0], [1150.0, 830000.0], [2470.0, 365000.0], [2550.0, 525888.0], [1420.0, 192500.0], [1560.0, 269000.0], [1200.0, 445000.0], [3330.0, 911100.0], [1870.0, 300000.0], [1750.0, 199000.0], [2730.0, 632000.0], [1670.0, 448000.0], [2730.0, 612500.0], [2610.0, 608000.0], [2040.0, 480000.0], [1310.0, 510000.0], [2540.0, 650000.0], [1700.0, 245000.0], [3220.0, 950968.0], [2580.0, 937750.0], [1650.0, 447000.0], [3370.0, 785000.0], [2500.0, 425000.0], [3480.0, 950000.0], [1500.0, 277000.0], [2770.0, 355000.0], [2840.0, 500000.0], [2440.0, 499000.0], [1320.0, 201500.0], [2060.0, 286000.0], [2550.0, 465000.0], [4000.0, 688000.0], [1040.0, 382500.0], [1740.0, 302000.0], [1420.0, 310000.0], [1650.0, 485000.0], [1470.0, 430000.0], [2700.0, 690000.0], [4130.0, 998000.0], [1840.0, 485000.0], [1910.0, 300000.0], [2260.0, 435000.0], [1620.0, 350000.0], [2390.0, 695000.0], [1620.0, 498000.0], [1900.0, 290000.0], [1010.0, 289000.0], [2500.0, 650000.0], [1676.0, 330000.0], [2420.0, 602000.0], [3060.0, 390000.0], [3560.0, 1280600.0], [1440.0, 445000.0], [1940.0, 505000.0], [4930.0, 600000.0], [1670.0, 661000.0], [1810.0, 517500.0], [2350.0, 754000.0], [1940.0, 322500.0], [880.0, 241000.0], [2540.0, 799990.0], [1400.0, 357250.0], [2320.0, 934550.0], [810.0, 235000.0], [1620.0, 800000.0], [1440.0, 421200.0], [2130.0, 435000.0], [1780.0, 240000.0], [1640.0, 465000.0], [1340.0, 450000.0], [1870.0, 619100.0], [2080.0, 480000.0], [1820.0, 750000.0], [1700.0, 712000.0], [2330.0, 625000.0], [1160.0, 506000.0], [2140.0, 350000.0], [760.0, 415000.0], [1590.0, 484950.0], [1310.0, 181000.0], [2090.0, 489900.0], [1290.0, 525000.0], [2820.0, 543200.0], [4500.0, 1830000.0], [1680.0, 262000.0], [1710.0, 513000.0], [930.0, 275000.0], [2220.0, 785000.0], [940.0, 575000.0], [2690.0, 597157.0], [3020.0, 754000.0], [1450.0, 330000.0], [1930.0, 319000.0], [1870.0, 502000.0], [2390.0, 339000.0], [2910.0, 570000.0], [1610.0, 259000.0], [7100.0, 3200000.0], [3230.0, 2110000.0], [1090.0, 406000.0], [3500.0, 998000.0], [1140.0, 903000.0], [1090.0, 180000.0], [1560.0, 625000.0], [940.0, 375000.0], [1120.0, 228950.0], [1460.0, 499000.0], [2790.0, 288000.0], [2420.0, 740000.0], [3000.0, 490500.0], [2963.0, 325000.0], [2210.0, 799000.0], [2100.0, 605000.0], [2900.0, 500000.0], [1320.0, 459000.0], [2350.0, 505000.0], [4870.0, 722500.0], [2060.0, 815241.0], [1010.0, 215000.0], [2130.0, 525000.0], [1930.0, 581000.0], [1890.0, 267300.0], [2690.0, 563750.0], [3230.0, 370000.0], [830.0, 135000.0], [2430.0, 305000.0], [2440.0, 769000.0], [3500.0, 1010000.0], [900.0, 146000.0], [2590.0, 520000.0], [1160.0, 137900.0], [980.0, 295000.0], [3276.0, 720000.0], [1600.0, 220000.0], [1380.0, 189000.0], [1180.0, 207000.0], [2270.0, 311750.0], [2200.0, 610000.0], [1570.0, 550000.0], [1690.0, 370000.0], [2350.0, 449000.0], [2020.0, 346500.0], [1610.0, 243500.0], [3220.0, 625000.0], [2410.0, 550000.0], [3620.0, 1015000.0], [1240.0, 459000.0], [2600.0, 440000.0], [2020.0, 245000.0], [4510.0, 1870000.0], [1590.0, 274000.0], [2860.0, 874000.0], [2190.0, 539950.0], [1480.0, 449250.0], [1540.0, 235000.0], [2240.0, 750000.0], [1860.0, 615000.0], [1900.0, 505000.0], [2440.0, 1285000.0], [1490.0, 390000.0], [1780.0, 252500.0], [3600.0, 1000000.0], [1630.0, 431000.0], [2180.0, 657000.0], [2540.0, 425000.0], [1460.0, 324950.0], [1950.0, 325000.0], [2230.0, 337000.0], [1480.0, 520000.0], [1720.0, 340000.0], [1850.0, 535000.0], [1830.0, 600000.0], [1550.0, 550000.0], [3440.0, 610000.0], [1510.0, 397500.0], [2600.0, 600000.0], [4700.0, 1135000.0], [530.0, 400000.0], [1490.0, 310000.0], [2680.0, 502000.0], [1650.0, 369500.0], [1890.0, 618000.0], [2700.0, 381000.0], [1740.0, 450000.0], [1870.0, 445830.0], [1330.0, 240000.0], [1080.0, 425000.0], [1420.0, 235000.0], [3250.0, 570000.0], [940.0, 375000.0], [2500.0, 545000.0], [1310.0, 234500.0], [2420.0, 700000.0], [2290.0, 745000.0], [2190.0, 437000.0], [1490.0, 389250.0], [1680.0, 619500.0], [1840.0, 481500.0], [3890.0, 772500.0], [1010.0, 265000.0], [1260.0, 120000.0], [1250.0, 283500.0], [2290.0, 848000.0], [2210.0, 470000.0], [3420.0, 641000.0], [1750.0, 329950.0], [2180.0, 621138.0], [850.0, 389000.0], [1290.0, 315000.0], [1250.0, 475000.0], [2070.0, 425000.0], [920.0, 156000.0], [2480.0, 725000.0], [2400.0, 620000.0], [2150.0, 950000.0], [1390.0, 199000.0], [3540.0, 888550.0], [3490.0, 745000.0], [1530.0, 332000.0], [820.0, 150000.0], [820.0, 265000.0], [5550.0, 1650000.0], [1390.0, 657100.0], [2900.0, 785000.0], [3190.0, 664000.0], [1680.0, 366350.0], [900.0, 225000.0], [4520.0, 1250000.0], [2380.0, 582000.0], [1460.0, 233000.0], [1550.0, 372500.0], [1260.0, 785000.0], [1880.0, 530000.0], [2000.0, 267000.0], [1270.0, 235000.0], [1350.0, 304500.0], [2200.0, 885000.0], [2320.0, 770000.0], [2750.0, 750000.0], [1370.0, 325000.0], [1580.0, 525000.0], [1160.0, 700000.0], [1890.0, 325000.0], [4420.0, 730000.0], [2080.0, 638700.0], [1760.0, 688000.0], [2670.0, 430000.0], [1850.0, 520000.0], [970.0, 690000.0], [3380.0, 1430000.0], [3210.0, 1289000.0], [1430.0, 352450.0], [3240.0, 719950.0], [1290.0, 275000.0], [7420.0, 1950000.0], [3970.0, 2300000.0], [1440.0, 478000.0], [2250.0, 750000.0], [4010.0, 1325000.0], [1550.0, 330000.0], [1489.0, 255900.0], [1940.0, 299000.0], [3390.0, 495000.0], [1790.0, 199900.0], [3610.0, 587000.0], [2530.0, 785950.0], [1210.0, 353000.0], [4050.0, 925000.0], [2550.0, 277500.0], [1370.0, 385000.0], [2710.0, 615000.0], [2950.0, 1045000.0], [3100.0, 1125000.0], [2320.0, 320000.0], [1720.0, 535000.0], [1850.0, 476100.0], [1390.0, 216500.0], [1740.0, 255000.0], [1440.0, 230000.0], [1940.0, 780000.0], [2320.0, 370000.0], [900.0, 89000.0], [4883.0, 537000.0], [1140.0, 235000.0], [2330.0, 665000.0], [890.0, 475000.0], [2460.0, 995000.0], [1820.0, 725000.0], [1620.0, 510000.0], [2790.0, 533112.0], [3160.0, 1280000.0], [1680.0, 252000.0], [3230.0, 817500.0], [3070.0, 731000.0], [1370.0, 555000.0], [880.0, 330000.0], [1220.0, 380000.0], [1730.0, 300000.0], [2538.0, 335606.0], [1570.0, 360000.0], [1230.0, 424000.0], [4450.0, 845950.0], [1570.0, 592350.0], [1920.0, 432000.0], [790.0, 169317.0], [1370.0, 535000.0], [3340.0, 1328000.0], [2110.0, 425000.0], [2360.0, 405000.0], [1110.0, 610000.0], [960.0, 218000.0], [2110.0, 743000.0], [2530.0, 631500.0], [2450.0, 300000.0], [1990.0, 536000.0], [1570.0, 273950.0], [1500.0, 270000.0], [2380.0, 529000.0], [2050.0, 314500.0], [3210.0, 750000.0], [2300.0, 392000.0], [820.0, 220000.0], [1850.0, 670000.0], [1070.0, 226750.0], [2350.0, 643403.0], [1570.0, 209950.0], [2190.0, 491500.0], [5320.0, 1062500.0], [2490.0, 725000.0], [1490.0, 368888.0], [2340.0, 995000.0], [4590.0, 3000000.0], [1920.0, 325000.0], [1060.0, 370000.0], [1700.0, 280000.0], [4210.0, 1905000.0], [1030.0, 525000.0], [3270.0, 435000.0], [1480.0, 409000.0], [950.0, 286000.0], [1140.0, 269900.0], [2100.0, 399000.0], [7620.0, 1680000.0], [1830.0, 518000.0], [840.0, 401000.0], [1540.0, 240000.0], [4600.0, 800000.0], [3220.0, 640000.0], [2620.0, 804000.0], [4780.0, 1640000.0], [1500.0, 329500.0], [3270.0, 650000.0], [470.0, 156000.0], [1040.0, 245990.0], [1620.0, 459000.0], [1310.0, 390000.0], [1520.0, 207000.0], [3560.0, 486000.0], [2130.0, 645000.0], [2080.0, 567500.0], [1830.0, 510000.0], [1760.0, 470000.0], [1760.0, 310000.0], [1230.0, 195000.0], [2950.0, 921800.0], [1260.0, 329950.0], [1630.0, 185850.0], [1490.0, 520000.0], [2830.0, 1115500.0], [2780.0, 717000.0], [1220.0, 250000.0], [1120.0, 202500.0], [1970.0, 1175000.0], [1010.0, 340000.0], [3130.0, 866059.0], [5620.0, 2500000.0], [1060.0, 336000.0], [1900.0, 405000.0], [3890.0, 985000.0], [1580.0, 253000.0], [1470.0, 245000.0], [1610.0, 255000.0], [1210.0, 345000.0], [1980.0, 333800.0], [880.0, 130000.0], [2370.0, 870000.0], [1530.0, 440000.0], [5090.0, 3100000.0], [2300.0, 417000.0], [1180.0, 713000.0], [2300.0, 683000.0], [1630.0, 357500.0], [2200.0, 410000.0], [2150.0, 399950.0], [2960.0, 539950.0], [2150.0, 580000.0], [3040.0, 776000.0], [2180.0, 275000.0], [1960.0, 285500.0], [1460.0, 400000.0], [3002.0, 394500.0], [960.0, 565000.0], [1090.0, 289950.0], [580.0, 90000.0], [2110.0, 288250.0], [1560.0, 439000.0], [1890.0, 525000.0], [1700.0, 268000.0], [2420.0, 325000.0], [1720.0, 498000.0], [1240.0, 277700.0], [1420.0, 615000.0], [3090.0, 844000.0], [2290.0, 585000.0], [1380.0, 462000.0], [1560.0, 399950.0], [5130.0, 1599950.0], [1560.0, 525000.0], [990.0, 354000.0], [4130.0, 775000.0], [1800.0, 270000.0], [3470.0, 1500000.0], [2100.0, 740000.0], [3250.0, 875000.0], [1540.0, 357000.0], [2680.0, 1309500.0], [1960.0, 560000.0], [2220.0, 652500.0], [1450.0, 274000.0], [2340.0, 668750.0], [1380.0, 329900.0], [2640.0, 383000.0], [1670.0, 565000.0], [1410.0, 510000.0], [3210.0, 870000.0], [1760.0, 620047.0], [1850.0, 390000.0], [1900.0, 630000.0], [4470.0, 831500.0], [2830.0, 405600.0], [1390.0, 267000.0], [2830.0, 451000.0], [700.0, 380000.0], [1920.0, 170000.0], [1980.0, 428000.0], [2060.0, 560000.0], [900.0, 451000.0], [2940.0, 589000.0], [2960.0, 785000.0], [3550.0, 920000.0], [2640.0, 429900.0], [970.0, 156000.0], [1170.0, 235000.0], [740.0, 290000.0], [1110.0, 505000.0], [3850.0, 507000.0], [2790.0, 725500.0], [3080.0, 490000.0], [3150.0, 450000.0], [2200.0, 433500.0], [2927.0, 715000.0], [1590.0, 400000.0], [1240.0, 320000.0], [1980.0, 660000.0], [2920.0, 1015000.0], [1800.0, 258500.0], [2150.0, 609000.0], [1250.0, 221000.0], [1320.0, 232500.0], [880.0, 330000.0], [1990.0, 569000.0], [860.0, 330000.0], [1530.0, 583500.0], [1860.0, 443000.0], [2790.0, 1045000.0], [940.0, 358000.0], [1800.0, 425000.0], [2080.0, 460000.0], [1280.0, 350000.0], [2630.0, 560000.0], [1000.0, 610000.0], [3260.0, 365000.0], [1690.0, 515000.0], [1080.0, 203000.0], [1920.0, 299000.0], [2200.0, 705000.0], [2060.0, 339989.0], [4920.0, 1408762.0], [2600.0, 581000.0], [1440.0, 225500.0], [2500.0, 525000.0], [1560.0, 545500.0], [1960.0, 723000.0], [1320.0, 207500.0], [1070.0, 510000.0], [2150.0, 410000.0], [930.0, 300000.0], [2180.0, 635000.0], [3670.0, 920000.0], [3730.0, 775000.0], [1010.0, 145000.0], [1960.0, 363000.0], [3010.0, 1100000.0], [2550.0, 575000.0], [1320.0, 299950.0], [1170.0, 400000.0], [1590.0, 330000.0], [1540.0, 530100.0], [1840.0, 465000.0], [3700.0, 489000.0], [1210.0, 219950.0], [1440.0, 430000.0], [4080.0, 1050000.0], [3270.0, 835000.0], [2980.0, 620000.0], [2864.0, 380000.0], [1350.0, 430000.0], [1040.0, 411100.0], [2260.0, 675000.0], [2300.0, 635000.0], [3680.0, 1378000.0], [1520.0, 375000.0], [3600.0, 1698000.0], [1480.0, 402500.0], [2180.0, 480500.0], [2920.0, 830000.0], [2180.0, 254950.0], [2140.0, 360000.0], [1420.0, 362000.0], [2650.0, 490000.0], [4070.0, 2298000.0], [2130.0, 671500.0], [2520.0, 896000.0], [2650.0, 590000.0], [2090.0, 355900.0], [3120.0, 444900.0], [870.0, 387500.0], [1611.0, 850000.0], [2630.0, 1297000.0], [2070.0, 423700.0], [1690.0, 207000.0], [1590.0, 325000.0], [2100.0, 492000.0], [3940.0, 1197000.0], [2840.0, 345000.0], [1290.0, 605000.0], [2360.0, 631750.0], [1240.0, 275000.0], [1560.0, 295000.0], [1710.0, 525000.0], [2260.0, 714000.0], [2540.0, 325000.0], [2870.0, 475000.0], [2580.0, 400000.0], [1260.0, 188200.0], [2680.0, 620000.0], [2700.0, 950000.0], [1030.0, 450000.0], [4400.0, 687000.0], [1060.0, 335000.0], [1300.0, 610000.0], [2980.0, 670000.0], [1030.0, 220000.0], [2570.0, 762450.0], [3850.0, 820000.0], [1060.0, 420000.0], [2400.0, 700000.0], [1140.0, 466000.0], [1600.0, 355000.0], [1370.0, 368000.0], [3130.0, 762500.0], [1270.0, 433000.0], [930.0, 250000.0], [3620.0, 480000.0], [1530.0, 257500.0], [1310.0, 255000.0], [700.0, 225000.0], [2670.0, 665000.0], [2670.0, 370000.0], [2840.0, 525000.0], [3800.0, 950000.0], [2570.0, 800000.0], [1880.0, 585000.0], [1580.0, 405100.0], [1900.0, 215000.0], [1250.0, 530000.0], [2100.0, 375000.0], [1770.0, 241000.0], [1270.0, 379950.0], [1850.0, 303000.0], [3490.0, 449950.0], [2230.0, 565000.0], [2210.0, 620000.0], [3030.0, 509900.0], [3160.0, 845000.0], [2050.0, 1025000.0], [2270.0, 812000.0], [1650.0, 282500.0], [3150.0, 450000.0], [2230.0, 280000.0], [2130.0, 482975.0], [1320.0, 327000.0], [2780.0, 705000.0], [1270.0, 467000.0], [3870.0, 900000.0], [2710.0, 540000.0], [2510.0, 440000.0], [6500.0, 2458000.0], [2020.0, 625000.0], [2120.0, 285000.0], [1580.0, 787500.0], [1720.0, 628000.0], [1550.0, 458000.0], [1240.0, 259950.0], [1550.0, 600000.0], [2970.0, 820000.0], [1000.0, 311300.0], [3190.0, 870000.0], [1290.0, 265000.0], [1380.0, 350000.0], [1750.0, 364000.0], [2040.0, 490000.0], [1970.0, 350000.0], [2110.0, 670000.0], [610.0, 400000.0], [2160.0, 324950.0], [1864.0, 235000.0], [1430.0, 574500.0], [1630.0, 482500.0], [1230.0, 200000.0], [1850.0, 585000.0], [1170.0, 415000.0], [1490.0, 259900.0], [1730.0, 339950.0], [930.0, 445000.0], [1030.0, 315000.0], [2850.0, 300000.0], [2310.0, 470000.0], [3060.0, 864000.0], [1550.0, 570000.0], [2220.0, 555000.0], [1741.0, 300000.0], [2930.0, 905000.0], [1560.0, 295000.0], [1510.0, 593777.0], [1600.0, 408000.0], [2290.0, 1003000.0], [3100.0, 792000.0], [2090.0, 300000.0], [1230.0, 410000.0], [1660.0, 655000.0], [3550.0, 952990.0], [1020.0, 307000.0], [1930.0, 434500.0], [4910.0, 1080000.0], [2340.0, 315000.0], [1330.0, 375000.0], [1410.0, 529500.0], [2450.0, 325000.0], [1710.0, 389900.0], [2350.0, 850000.0], [1780.0, 240000.0], [2130.0, 360000.0], [2150.0, 607000.0], [2120.0, 575000.0], [2170.0, 466000.0], [4220.0, 1635000.0], [2570.0, 435000.0], [5940.0, 1149000.0], [1400.0, 253000.0], [2350.0, 510000.0], [1740.0, 430000.0], [2780.0, 645000.0], [3620.0, 768500.0], [1440.0, 249000.0], [2860.0, 1315000.0], [2550.0, 808000.0], [1170.0, 312500.0], [3050.0, 950000.0], [2870.0, 540000.0]], \"columns\": [{\"dtype\": \"str\", \"name\": \"id\"}, {\"dtype\": \"datetime\", \"name\": \"date\"}, {\"dtype\": \"float\", \"name\": \"price\"}, {\"dtype\": \"float\", \"name\": \"bedrooms\"}, {\"dtype\": \"float\", \"name\": \"bathrooms\"}, {\"dtype\": \"float\", \"name\": \"sqft_living\"}, {\"dtype\": \"int\", \"name\": \"sqft_lot\"}, {\"dtype\": \"str\", \"name\": \"floors\"}, {\"dtype\": \"int\", \"name\": \"waterfront\"}, {\"dtype\": \"int\", \"name\": \"view\"}, {\"dtype\": \"int\", \"name\": \"condition\"}, {\"dtype\": \"int\", \"name\": \"grade\"}, {\"dtype\": \"int\", \"name\": \"sqft_above\"}, {\"dtype\": \"int\", \"name\": \"sqft_basement\"}, {\"dtype\": \"int\", \"name\": \"yr_built\"}, {\"dtype\": \"int\", \"name\": \"yr_renovated\"}, {\"dtype\": \"str\", \"name\": \"zipcode\"}, {\"dtype\": \"float\", \"name\": \"lat\"}, {\"dtype\": \"float\", \"name\": \"long\"}, {\"dtype\": \"float\", \"name\": \"sqft_living15\"}, {\"dtype\": \"float\", \"name\": \"sqft_lot15\"}]}, e);\n",
       "                });\n",
       "            })();\n",
       "        "
      ]
     },
     "metadata": {},
     "output_type": "display_data"
    }
   ],
   "source": [
    "graphlab.canvas.set_target('ipynb')\n",
    "sales.show(view=\"Scatter Plot\", x='sqft_living', y=\"price\")"
   ]
  },
  {
   "cell_type": "code",
   "execution_count": 33,
   "metadata": {
    "collapsed": false
   },
   "outputs": [
    {
     "data": {
      "application/javascript": [
       "$(\"head\").append($(\"<link/>\").attr({\n",
       "  rel:  \"stylesheet\",\n",
       "  type: \"text/css\",\n",
       "  href: \"//cdnjs.cloudflare.com/ajax/libs/font-awesome/4.1.0/css/font-awesome.min.css\"\n",
       "}));\n",
       "$(\"head\").append($(\"<link/>\").attr({\n",
       "  rel:  \"stylesheet\",\n",
       "  type: \"text/css\",\n",
       "  href: \"//dato.com/files/canvas/1.7.1/css/canvas.css\"\n",
       "}));\n",
       "\n",
       "            (function(){\n",
       "\n",
       "                var e = null;\n",
       "                if (typeof element == 'undefined') {\n",
       "                    var scripts = document.getElementsByTagName('script');\n",
       "                    var thisScriptTag = scripts[scripts.length-1];\n",
       "                    var parentDiv = thisScriptTag.parentNode;\n",
       "                    e = document.createElement('div');\n",
       "                    parentDiv.appendChild(e);\n",
       "                } else {\n",
       "                    e = element[0];\n",
       "                }\n",
       "\n",
       "                if (typeof requirejs !== 'undefined') {\n",
       "                    // disable load timeout; ipython_app.js is large and can take a while to load.\n",
       "                    requirejs.config({waitSeconds: 0});\n",
       "                }\n",
       "\n",
       "                require(['//dato.com/files/canvas/1.7.1/js/ipython_app.js'], function(IPythonApp){\n",
       "                    var app = new IPythonApp();\n",
       "                    app.attachView('sframe','Plots', {\"selected_variable\": {\"name\": [\"sales\"], \"descriptives\": {\"rows\": 21613, \"columns\": 21}, \"view_component\": \"Plots\", \"view_file\": \"sframe\", \"view_params\": {\"y\": \"price\", \"x\": \"bedrooms\", \"columns\": [\"id\", \"date\", \"price\", \"bedrooms\", \"bathrooms\", \"sqft_living\", \"sqft_lot\", \"floors\", \"waterfront\", \"view\", \"condition\", \"grade\", \"sqft_above\", \"sqft_basement\", \"yr_built\", \"yr_renovated\", \"zipcode\", \"lat\", \"long\", \"sqft_living15\", \"sqft_lot15\"], \"view\": \"Scatter Plot\"}, \"view_components\": [\"Summary\", \"Table\", \"Bar Chart\", \"BoxWhisker Plot\", \"Line Chart\", \"Scatter Plot\", \"Heat Map\", \"Plots\"], \"type\": \"SFrame\", \"columns\": [{\"dtype\": \"str\", \"name\": \"id\"}, {\"dtype\": \"datetime\", \"name\": \"date\"}, {\"dtype\": \"float\", \"name\": \"price\"}, {\"dtype\": \"float\", \"name\": \"bedrooms\"}, {\"dtype\": \"float\", \"name\": \"bathrooms\"}, {\"dtype\": \"float\", \"name\": \"sqft_living\"}, {\"dtype\": \"int\", \"name\": \"sqft_lot\"}, {\"dtype\": \"str\", \"name\": \"floors\"}, {\"dtype\": \"int\", \"name\": \"waterfront\"}, {\"dtype\": \"int\", \"name\": \"view\"}, {\"dtype\": \"int\", \"name\": \"condition\"}, {\"dtype\": \"int\", \"name\": \"grade\"}, {\"dtype\": \"int\", \"name\": \"sqft_above\"}, {\"dtype\": \"int\", \"name\": \"sqft_basement\"}, {\"dtype\": \"int\", \"name\": \"yr_built\"}, {\"dtype\": \"int\", \"name\": \"yr_renovated\"}, {\"dtype\": \"str\", \"name\": \"zipcode\"}, {\"dtype\": \"float\", \"name\": \"lat\"}, {\"dtype\": \"float\", \"name\": \"long\"}, {\"dtype\": \"float\", \"name\": \"sqft_living15\"}, {\"dtype\": \"float\", \"name\": \"sqft_lot15\"}], \"column_identifiers\": [\"bathrooms\", \"sqft_living15\", \"sqft_above\", \"grade\", \"yr_built\", \"price\", \"bedrooms\", \"zipcode\", \"long\", \"id\", \"sqft_lot15\", \"sqft_living\", \"floors\", \"sqft_lot\", \"date\", \"waterfront\", \"sqft_basement\", \"yr_renovated\", \"lat\", \"condition\", \"view\"]}, \"complete\": 1, \"ipython\": true, \"progress\": 1.0, \"data\": [[3.0, 314000.0], [3.0, 430000.0], [4.0, 296000.0], [4.0, 1038000.0], [3.0, 550000.0], [3.0, 345000.0], [2.0, 495000.0], [5.0, 1135000.0], [3.0, 439000.0], [5.0, 372500.0], [3.0, 235000.0], [5.0, 994000.0], [4.0, 435000.0], [4.0, 398000.0], [5.0, 600000.0], [2.0, 314963.0], [3.0, 570000.0], [5.0, 754300.0], [4.0, 243500.0], [3.0, 452000.0], [3.0, 152500.0], [4.0, 790000.0], [4.0, 739000.0], [4.0, 470000.0], [5.0, 1400000.0], [4.0, 765000.0], [3.0, 539900.0], [3.0, 635000.0], [3.0, 1150000.0], [3.0, 433000.0], [4.0, 622000.0], [3.0, 590000.0], [3.0, 560000.0], [3.0, 379500.0], [4.0, 639000.0], [3.0, 584000.0], [2.0, 625500.0], [3.0, 243000.0], [3.0, 293000.0], [3.0, 525000.0], [4.0, 810000.0], [4.0, 446500.0], [3.0, 245000.0], [3.0, 350000.0], [3.0, 410000.0], [3.0, 453000.0], [3.0, 487000.0], [3.0, 305000.0], [3.0, 320000.0], [4.0, 824500.0], [2.0, 290000.0], [3.0, 555000.0], [3.0, 167000.0], [2.0, 640000.0], [5.0, 935000.0], [3.0, 389000.0], [3.0, 267000.0], [4.0, 525000.0], [3.0, 295000.0], [2.0, 175000.0], [3.0, 287000.0], [4.0, 598000.0], [3.0, 305000.0], [2.0, 504975.0], [3.0, 263000.0], [3.0, 203000.0], [3.0, 400000.0], [3.0, 488500.0], [3.0, 230000.0], [5.0, 1325000.0], [5.0, 804000.0], [4.0, 309950.0], [3.0, 826000.0], [3.0, 215000.0], [5.0, 402000.0], [2.0, 405000.0], [3.0, 650000.0], [5.0, 469950.0], [4.0, 810000.0], [4.0, 1135000.0], [4.0, 839900.0], [4.0, 650000.0], [4.0, 360000.0], [2.0, 508000.0], [3.0, 675000.0], [4.0, 625000.0], [4.0, 1440000.0], [3.0, 450000.0], [3.0, 370000.0], [4.0, 385000.0], [5.0, 275000.0], [2.0, 340000.0], [3.0, 362300.0], [5.0, 830000.0], [3.0, 259500.0], [3.0, 310000.0], [3.0, 398000.0], [4.0, 645000.0], [3.0, 614950.0], [3.0, 437500.0], [3.0, 294000.0], [2.0, 304700.0], [3.0, 530000.0], [3.0, 340000.0], [4.0, 825000.0], [3.0, 387865.0], [5.0, 435000.0], [6.0, 1680000.0], [5.0, 340000.0], [3.0, 359950.0], [5.0, 245000.0], [1.0, 598800.0], [2.0, 385000.0], [3.0, 205000.0], [2.0, 554000.0], [3.0, 340000.0], [5.0, 670000.0], [4.0, 272000.0], [3.0, 1140000.0], [3.0, 264500.0], [4.0, 380000.0], [3.0, 391500.0], [4.0, 425000.0], [3.0, 285000.0], [3.0, 770000.0], [4.0, 1450000.0], [3.0, 445000.0], [4.0, 530000.0], [1.0, 244900.0], [3.0, 599950.0], [2.0, 190000.0], [3.0, 820000.0], [5.0, 559950.0], [3.0, 202500.0], [4.0, 435000.0], [2.0, 290300.0], [4.0, 922755.0], [2.0, 310000.0], [3.0, 550388.0], [4.0, 555000.0], [2.0, 665000.0], [3.0, 415000.0], [3.0, 229000.0], [3.0, 180000.0], [4.0, 360000.0], [3.0, 1065000.0], [4.0, 360000.0], [4.0, 540000.0], [3.0, 245000.0], [3.0, 496700.0], [2.0, 315000.0], [4.0, 980000.0], [5.0, 1406888.0], [1.0, 227000.0], [3.0, 720000.0], [3.0, 240000.0], [2.0, 290000.0], [4.0, 335000.0], [4.0, 257500.0], [2.0, 230000.0], [5.0, 610000.0], [1.0, 334000.0], [3.0, 400000.0], [3.0, 467500.0], [3.0, 631000.0], [3.0, 434000.0], [4.0, 515000.0], [2.0, 459500.0], [3.0, 361000.0], [4.0, 199000.0], [4.0, 369950.0], [5.0, 3800000.0], [3.0, 700000.0], [4.0, 314000.0], [5.0, 600000.0], [3.0, 265000.0], [3.0, 615000.0], [3.0, 750000.0], [2.0, 695000.0], [3.0, 703000.0], [7.0, 291000.0], [4.0, 349900.0], [3.0, 598500.0], [3.0, 300000.0], [2.0, 327000.0], [2.0, 405000.0], [3.0, 509900.0], [3.0, 560000.0], [4.0, 675000.0], [4.0, 622950.0], [3.0, 620000.0], [3.0, 564800.0], [4.0, 458400.0], [3.0, 230000.0], [3.0, 399950.0], [2.0, 625000.0], [4.0, 1925000.0], [3.0, 320000.0], [4.0, 746000.0], [5.0, 847000.0], [2.0, 380950.0], [3.0, 427000.0], [2.0, 425000.0], [5.0, 1532500.0], [3.0, 572000.0], [3.0, 355000.0], [4.0, 619000.0], [4.0, 787500.0], [3.0, 264000.0], [3.0, 479950.0], [3.0, 555000.0], [5.0, 1200000.0], [3.0, 430000.0], [4.0, 455000.0], [1.0, 345000.0], [3.0, 355000.0], [4.0, 460000.0], [2.0, 193000.0], [4.0, 569950.0], [4.0, 335000.0], [3.0, 415000.0], [5.0, 811500.0], [4.0, 428900.0], [3.0, 325000.0], [4.0, 560000.0], [3.0, 390000.0], [4.0, 668500.0], [2.0, 790000.0], [3.0, 339000.0], [3.0, 419500.0], [5.0, 312891.0], [4.0, 1000000.0], [2.0, 350000.0], [2.0, 213000.0], [3.0, 335606.0], [4.0, 679000.0], [3.0, 344950.0], [3.0, 357000.0], [4.0, 799950.0], [3.0, 759000.0], [5.0, 1000000.0], [3.0, 311000.0], [3.0, 495000.0], [4.0, 410000.0], [3.0, 736500.0], [3.0, 198400.0], [3.0, 225000.0], [5.0, 515000.0], [4.0, 250000.0], [2.0, 222000.0], [3.0, 244900.0], [3.0, 780000.0], [3.0, 415000.0], [4.0, 505000.0], [3.0, 408000.0], [2.0, 228000.0], [3.0, 439000.0], [3.0, 392500.0], [5.0, 780000.0], [3.0, 230000.0], [3.0, 420000.0], [3.0, 375000.0], [5.0, 809000.0], [4.0, 415000.0], [2.0, 325000.0], [4.0, 785000.0], [3.0, 1015000.0], [3.0, 215000.0], [4.0, 228800.0], [3.0, 206000.0], [4.0, 340000.0], [3.0, 291600.0], [3.0, 165000.0], [3.0, 485000.0], [4.0, 439000.0], [4.0, 388500.0], [3.0, 576000.0], [3.0, 625000.0], [3.0, 1038000.0], [3.0, 445000.0], [4.0, 835000.0], [2.0, 440000.0], [4.0, 787888.0], [2.0, 392000.0], [4.0, 845000.0], [3.0, 265000.0], [3.0, 539950.0], [4.0, 375000.0], [4.0, 689000.0], [3.0, 260000.0], [2.0, 269500.0], [3.0, 399000.0], [4.0, 1950000.0], [4.0, 602000.0], [3.0, 420000.0], [3.0, 925000.0], [4.0, 299000.0], [3.0, 446500.0], [4.0, 680000.0], [2.0, 910000.0], [3.0, 600000.0], [3.0, 818900.0], [3.0, 268000.0], [3.0, 208633.0], [3.0, 120750.0], [3.0, 493000.0], [3.0, 220000.0], [3.0, 349000.0], [3.0, 342000.0], [4.0, 2453500.0], [4.0, 1135000.0], [3.0, 399000.0], [4.0, 426500.0], [3.0, 221347.0], [4.0, 982000.0], [3.0, 590000.0], [3.0, 470000.0], [4.0, 681000.0], [5.0, 685000.0], [4.0, 349000.0], [2.0, 625000.0], [3.0, 1697000.0], [3.0, 750000.0], [3.0, 364500.0], [4.0, 875000.0], [2.0, 240500.0], [3.0, 800000.0], [2.0, 535000.0], [5.0, 420000.0], [2.0, 95000.0], [4.0, 556300.0], [5.0, 417500.0], [3.0, 295000.0], [3.0, 760000.0], [4.0, 1525000.0], [6.0, 2140000.0], [2.0, 467000.0], [4.0, 387500.0], [3.0, 589000.0], [4.0, 599950.0], [3.0, 988500.0], [3.0, 341000.0], [3.0, 425000.0], [4.0, 352000.0], [3.0, 296500.0], [3.0, 115000.0], [4.0, 645000.0], [5.0, 599950.0], [3.0, 328500.0], [4.0, 525000.0], [2.0, 350000.0], [4.0, 810000.0], [4.0, 435000.0], [4.0, 1650000.0], [3.0, 450000.0], [3.0, 191000.0], [3.0, 205000.0], [3.0, 674000.0], [3.0, 900000.0], [4.0, 495000.0], [2.0, 324500.0], [3.0, 999000.0], [3.0, 420250.0], [3.0, 260000.0], [3.0, 438000.0], [3.0, 375000.0], [4.0, 585000.0], [4.0, 500000.0], [2.0, 350000.0], [4.0, 690000.0], [3.0, 245000.0], [4.0, 342000.0], [3.0, 611000.0], [3.0, 315000.0], [3.0, 470000.0], [3.0, 279000.0], [3.0, 645000.0], [5.0, 705000.0], [4.0, 405000.0], [2.0, 380000.0], [4.0, 735000.0], [3.0, 522000.0], [3.0, 560000.0], [4.0, 1619999.0], [4.0, 889000.0], [4.0, 2200000.0], [3.0, 290000.0], [5.0, 1037000.0], [3.0, 467000.0], [4.0, 439500.0], [3.0, 646000.0], [3.0, 495000.0], [4.0, 407000.0], [3.0, 305495.0], [3.0, 1050000.0], [6.0, 799200.0], [4.0, 825000.0], [4.0, 490000.0], [4.0, 465000.0], [4.0, 269900.0], [4.0, 897500.0], [3.0, 300000.0], [3.0, 580000.0], [3.0, 359950.0], [3.0, 280000.0], [3.0, 1295000.0], [3.0, 280000.0], [2.0, 245000.0], [3.0, 744000.0], [3.0, 382500.0], [3.0, 490000.0], [5.0, 788000.0], [2.0, 235000.0], [3.0, 565000.0], [3.0, 432000.0], [3.0, 666000.0], [3.0, 150000.0], [2.0, 495000.0], [4.0, 495000.0], [4.0, 1115000.0], [4.0, 570000.0], [3.0, 626000.0], [2.0, 252500.0], [3.0, 505000.0], [3.0, 550000.0], [3.0, 325000.0], [3.0, 308000.0], [3.0, 1300000.0], [3.0, 419995.0], [4.0, 385000.0], [3.0, 980000.0], [4.0, 420000.0], [4.0, 315000.0], [4.0, 530000.0], [4.0, 400000.0], [4.0, 725000.0], [5.0, 722500.0], [3.0, 725000.0], [3.0, 599832.0], [5.0, 1462497.0], [4.0, 380000.0], [4.0, 740000.0], [4.0, 920000.0], [3.0, 1075000.0], [4.0, 245000.0], [3.0, 470000.0], [3.0, 850000.0], [3.0, 350000.0], [5.0, 475000.0], [2.0, 208000.0], [3.0, 1480000.0], [3.0, 805000.0], [4.0, 327500.0], [3.0, 760000.0], [3.0, 565000.0], [4.0, 518500.0], [4.0, 550000.0], [4.0, 289950.0], [4.0, 763000.0], [3.0, 505000.0], [2.0, 450000.0], [3.0, 510000.0], [3.0, 230000.0], [3.0, 729000.0], [4.0, 604700.0], [3.0, 334999.0], [4.0, 617950.0], [2.0, 515000.0], [4.0, 359000.0], [4.0, 1062500.0], [3.0, 375000.0], [3.0, 475000.0], [2.0, 849900.0], [4.0, 435000.0], [5.0, 600000.0], [3.0, 280000.0], [4.0, 340000.0], [5.0, 495000.0], [7.0, 419000.0], [5.0, 3300000.0], [3.0, 455000.0], [3.0, 320000.0], [3.0, 299500.0], [3.0, 280000.0], [4.0, 840000.0], [3.0, 265000.0], [3.0, 345000.0], [4.0, 469950.0], [2.0, 210000.0], [4.0, 272000.0], [3.0, 213550.0], [4.0, 528000.0], [4.0, 847093.0], [4.0, 364900.0], [2.0, 225500.0], [3.0, 594866.0], [3.0, 299995.0], [4.0, 268643.0], [2.0, 468000.0], [2.0, 95000.0], [4.0, 650000.0], [2.0, 475000.0], [3.0, 380000.0], [4.0, 1197354.0], [3.0, 295500.0], [3.0, 619000.0], [2.0, 409950.0], [3.0, 165000.0], [2.0, 195000.0], [3.0, 315000.0], [3.0, 654300.0], [2.0, 601150.0], [1.0, 202000.0], [3.0, 435000.0], [3.0, 685000.0], [4.0, 390000.0], [3.0, 288250.0], [4.0, 449999.0], [4.0, 1309500.0], [4.0, 1400000.0], [2.0, 476000.0], [5.0, 1875000.0], [3.0, 625000.0], [3.0, 775000.0], [2.0, 342500.0], [3.0, 180000.0], [3.0, 268950.0], [3.0, 489000.0], [2.0, 463000.0], [3.0, 429000.0], [3.0, 279000.0], [5.0, 830000.0], [5.0, 480000.0], [2.0, 325000.0], [4.0, 760000.0], [5.0, 399000.0], [3.0, 269950.0], [5.0, 336800.0], [3.0, 407185.0], [2.0, 479000.0], [3.0, 520000.0], [3.0, 705380.0], [3.0, 429000.0], [3.0, 297000.0], [3.0, 412000.0], [3.0, 364500.0], [3.0, 520000.0], [3.0, 526500.0], [3.0, 732000.0], [3.0, 415000.0], [3.0, 246700.0], [3.0, 169000.0], [4.0, 958000.0], [3.0, 310000.0], [3.0, 399950.0], [3.0, 382500.0], [4.0, 400000.0], [4.0, 436000.0], [5.0, 849000.0], [3.0, 310000.0], [3.0, 300000.0], [3.0, 219950.0], [3.0, 700000.0], [3.0, 350000.0], [3.0, 1015000.0], [2.0, 461100.0], [4.0, 1650000.0], [4.0, 275000.0], [3.0, 845000.0], [3.0, 399950.0], [2.0, 700000.0], [3.0, 690000.0], [4.0, 315000.0], [3.0, 376500.0], [4.0, 525000.0], [2.0, 300000.0], [4.0, 249900.0], [2.0, 378500.0], [4.0, 540000.0], [3.0, 399950.0], [3.0, 755000.0], [2.0, 656000.0], [5.0, 539000.0], [4.0, 439000.0], [4.0, 557500.0], [3.0, 265000.0], [4.0, 525000.0], [3.0, 601500.0], [4.0, 508500.0], [4.0, 858000.0], [3.0, 245000.0], [3.0, 394000.0], [4.0, 399000.0], [3.0, 190000.0], [3.0, 435000.0], [2.0, 410000.0], [3.0, 559950.0], [2.0, 474000.0], [2.0, 499000.0], [3.0, 419600.0], [4.0, 270000.0], [2.0, 450000.0], [3.0, 885000.0], [3.0, 565000.0], [3.0, 369000.0], [2.0, 160000.0], [4.0, 625000.0], [3.0, 606400.0], [3.0, 223000.0], [3.0, 371000.0], [5.0, 1307000.0], [6.0, 250000.0], [4.0, 1475000.0], [2.0, 340000.0], [3.0, 435000.0], [2.0, 580000.0], [3.0, 380000.0], [4.0, 279000.0], [3.0, 690000.0], [3.0, 565000.0], [3.0, 659000.0], [2.0, 273000.0], [3.0, 1150000.0], [2.0, 461000.0], [3.0, 325000.0], [5.0, 550000.0], [3.0, 559950.0], [3.0, 465000.0], [4.0, 550000.0], [3.0, 618500.0], [3.0, 858450.0], [2.0, 425000.0], [4.0, 700000.0], [2.0, 653500.0], [4.0, 542525.0], [4.0, 669000.0], [3.0, 214000.0], [4.0, 468000.0], [3.0, 250000.0], [3.0, 260000.0], [3.0, 759950.0], [3.0, 615000.0], [4.0, 1108000.0], [4.0, 235000.0], [4.0, 700000.0], [3.0, 660000.0], [3.0, 387000.0], [2.0, 238950.0], [7.0, 310000.0], [3.0, 226000.0], [2.0, 430000.0], [3.0, 350000.0], [2.0, 130000.0], [2.0, 579000.0], [3.0, 305000.0], [2.0, 249000.0], [5.0, 534000.0], [3.0, 602000.0], [3.0, 575000.0], [4.0, 700000.0], [3.0, 524500.0], [3.0, 383000.0], [3.0, 710000.0], [4.0, 280000.0], [4.0, 585000.0], [3.0, 600000.0], [3.0, 685000.0], [5.0, 602000.0], [4.0, 532000.0], [3.0, 336000.0], [3.0, 279500.0], [2.0, 379950.0], [3.0, 286800.0], [2.0, 350000.0], [3.0, 424000.0], [3.0, 497000.0], [2.0, 245000.0], [2.0, 241000.0], [6.0, 400000.0], [3.0, 279000.0], [3.0, 396500.0], [3.0, 240000.0], [3.0, 350000.0], [4.0, 413000.0], [5.0, 950000.0], [2.0, 545000.0], [3.0, 324900.0], [5.0, 408000.0], [3.0, 572500.0], [4.0, 850000.0], [2.0, 335000.0], [3.0, 201000.0], [3.0, 216650.0], [4.0, 687000.0], [3.0, 299000.0], [3.0, 450000.0], [3.0, 750000.0], [4.0, 421000.0], [2.0, 705000.0], [3.0, 165000.0], [3.0, 324950.0], [4.0, 668000.0], [3.0, 510000.0], [5.0, 1005000.0], [3.0, 226550.0], [4.0, 443500.0], [3.0, 509950.0], [4.0, 1100000.0], [3.0, 539000.0], [4.0, 455000.0], [4.0, 358800.0], [3.0, 315000.0], [4.0, 303000.0], [3.0, 220000.0], [2.0, 390000.0], [3.0, 775000.0], [4.0, 854000.0], [3.0, 280000.0], [3.0, 221000.0], [4.0, 1050000.0], [5.0, 610000.0], [3.0, 450000.0], [3.0, 259000.0], [2.0, 695000.0], [4.0, 536000.0], [5.0, 259875.0], [3.0, 525000.0], [3.0, 635000.0], [3.0, 265000.0], [4.0, 339995.0], [3.0, 514000.0], [3.0, 263000.0], [4.0, 310000.0], [1.0, 250000.0], [4.0, 850000.0], [3.0, 2225000.0], [4.0, 229950.0], [3.0, 369900.0], [4.0, 305000.0], [6.0, 435000.0], [5.0, 895000.0], [5.0, 1300000.0], [3.0, 650000.0], [4.0, 215000.0], [4.0, 1750000.0], [5.0, 1020000.0], [5.0, 1105000.0], [4.0, 1200000.0], [3.0, 179950.0], [3.0, 270000.0], [3.0, 716500.0], [4.0, 348000.0], [4.0, 515000.0], [5.0, 480000.0], [2.0, 535000.0], [3.0, 857326.0], [4.0, 1525000.0], [3.0, 348000.0], [5.0, 278000.0], [5.0, 1295000.0], [2.0, 365000.0], [2.0, 500000.0], [5.0, 458000.0], [3.0, 429950.0], [4.0, 275000.0], [4.0, 597000.0], [4.0, 337000.0], [3.0, 807000.0], [3.0, 377500.0], [2.0, 245000.0], [3.0, 345000.0], [4.0, 213000.0], [3.0, 860000.0], [3.0, 415000.0], [3.0, 590000.0], [5.0, 890000.0], [4.0, 3000000.0], [4.0, 1060000.0], [4.0, 550000.0], [3.0, 234000.0], [3.0, 310000.0], [4.0, 500000.0], [3.0, 206000.0], [3.0, 530100.0], [3.0, 560000.0], [3.0, 510250.0], [4.0, 950000.0], [3.0, 550000.0], [3.0, 289950.0], [3.0, 145000.0], [4.0, 1950000.0], [4.0, 278000.0], [3.0, 300000.0], [4.0, 540000.0], [3.0, 248000.0], [3.0, 353000.0], [4.0, 1015000.0], [3.0, 1180500.0], [3.0, 350000.0], [3.0, 423500.0], [6.0, 330000.0], [3.0, 300000.0], [3.0, 595000.0], [2.0, 305000.0], [2.0, 579000.0], [3.0, 1250000.0], [6.0, 660000.0], [4.0, 875000.0], [4.0, 522500.0], [6.0, 320000.0], [3.0, 577000.0], [3.0, 1875000.0], [3.0, 525000.0], [3.0, 272500.0], [3.0, 249950.0], [2.0, 765000.0], [3.0, 310000.0], [3.0, 651000.0], [3.0, 379500.0], [3.0, 950000.0], [3.0, 195000.0], [2.0, 340000.0], [4.0, 190000.0], [2.0, 350000.0], [5.0, 265000.0], [3.0, 253000.0], [6.0, 1150000.0], [4.0, 395000.0], [2.0, 403000.0], [4.0, 707500.0], [2.0, 222200.0], [2.0, 275000.0], [3.0, 295000.0], [4.0, 711777.0], [2.0, 470000.0], [3.0, 713250.0], [4.0, 595000.0], [4.0, 760000.0], [4.0, 1000000.0], [3.0, 222000.0], [4.0, 338800.0], [2.0, 567500.0], [3.0, 379950.0], [2.0, 1000000.0], [4.0, 264950.0], [3.0, 425000.0], [5.0, 550120.0], [3.0, 628000.0], [3.0, 259000.0], [2.0, 320000.0], [4.0, 513000.0], [4.0, 395000.0], [5.0, 1400000.0], [3.0, 465000.0], [2.0, 387000.0], [3.0, 435000.0], [3.0, 335000.0], [3.0, 615000.0], [3.0, 792000.0], [4.0, 405000.0], [3.0, 472500.0], [1.0, 330000.0], [3.0, 332000.0], [3.0, 355000.0], [4.0, 540000.0], [3.0, 275000.0], [4.0, 592100.0], [3.0, 585000.0], [3.0, 330000.0], [3.0, 299950.0], [3.0, 418000.0], [3.0, 252000.0], [2.0, 400000.0], [3.0, 525000.0], [4.0, 1500000.0], [3.0, 280000.0], [3.0, 147500.0], [4.0, 620000.0], [3.0, 235000.0], [3.0, 185000.0], [5.0, 1475000.0], [4.0, 1300000.0], [4.0, 1485000.0], [3.0, 720000.0], [3.0, 625000.0], [2.0, 234950.0], [3.0, 233000.0], [4.0, 223000.0], [2.0, 680000.0], [3.0, 510000.0], [3.0, 249900.0], [3.0, 399000.0], [4.0, 471275.0], [4.0, 276000.0], [4.0, 869950.0], [4.0, 265000.0], [3.0, 1399000.0], [3.0, 660000.0], [3.0, 680000.0], [2.0, 365000.0], [4.0, 1050000.0], [3.0, 770000.0], [4.0, 247500.0], [3.0, 197400.0], [2.0, 487000.0], [3.0, 335000.0], [4.0, 457000.0], [3.0, 255000.0], [2.0, 705000.0], [3.0, 362000.0], [4.0, 650000.0], [4.0, 565000.0], [4.0, 750000.0], [3.0, 259000.0], [5.0, 464000.0], [4.0, 750000.0], [5.0, 535000.0], [4.0, 464950.0], [3.0, 645000.0], [3.0, 440000.0], [3.0, 900000.0], [3.0, 368888.0], [3.0, 542500.0], [3.0, 230500.0], [3.0, 284000.0], [4.0, 500000.0], [4.0, 288400.0], [2.0, 609850.0], [3.0, 548500.0], [3.0, 309000.0], [3.0, 300000.0], [4.0, 275000.0], [4.0, 533300.0], [3.0, 390000.0], [5.0, 255000.0], [2.0, 252500.0], [3.0, 240000.0], [3.0, 239950.0], [5.0, 498500.0], [3.0, 273500.0], [3.0, 433200.0], [3.0, 253000.0], [4.0, 429950.0], [4.0, 269950.0], [3.0, 620000.0], [4.0, 1210000.0], [3.0, 329500.0], [2.0, 229000.0], [4.0, 293000.0], [4.0, 1050000.0], [3.0, 223000.0], [3.0, 601000.0], [3.0, 218250.0], [5.0, 1249000.0], [3.0, 443500.0], [4.0, 550000.0], [4.0, 515000.0], [2.0, 224000.0], [4.0, 210000.0], [2.0, 425000.0], [4.0, 650000.0], [4.0, 372500.0], [4.0, 369950.0], [3.0, 410000.0], [4.0, 650000.0], [3.0, 480000.0], [2.0, 520000.0], [4.0, 275000.0], [3.0, 550000.0], [4.0, 465000.0], [4.0, 545000.0], [3.0, 365000.0], [4.0, 969990.0], [3.0, 515000.0], [3.0, 455500.0], [4.0, 1830000.0], [3.0, 280000.0], [4.0, 672500.0], [3.0, 759000.0], [3.0, 295000.0], [5.0, 705000.0], [3.0, 249950.0], [4.0, 470000.0], [3.0, 355000.0], [4.0, 747500.0], [4.0, 381800.0], [3.0, 300000.0], [4.0, 374500.0], [2.0, 312000.0], [3.0, 425590.0], [3.0, 317000.0], [2.0, 405000.0], [3.0, 1825000.0], [3.0, 206000.0], [3.0, 251000.0], [3.0, 700000.0], [5.0, 868500.0], [4.0, 415000.0], [4.0, 1250000.0], [3.0, 295000.0]], \"columns\": [{\"dtype\": \"str\", \"name\": \"id\"}, {\"dtype\": \"datetime\", \"name\": \"date\"}, {\"dtype\": \"float\", \"name\": \"price\"}, {\"dtype\": \"float\", \"name\": \"bedrooms\"}, {\"dtype\": \"float\", \"name\": \"bathrooms\"}, {\"dtype\": \"float\", \"name\": \"sqft_living\"}, {\"dtype\": \"int\", \"name\": \"sqft_lot\"}, {\"dtype\": \"str\", \"name\": \"floors\"}, {\"dtype\": \"int\", \"name\": \"waterfront\"}, {\"dtype\": \"int\", \"name\": \"view\"}, {\"dtype\": \"int\", \"name\": \"condition\"}, {\"dtype\": \"int\", \"name\": \"grade\"}, {\"dtype\": \"int\", \"name\": \"sqft_above\"}, {\"dtype\": \"int\", \"name\": \"sqft_basement\"}, {\"dtype\": \"int\", \"name\": \"yr_built\"}, {\"dtype\": \"int\", \"name\": \"yr_renovated\"}, {\"dtype\": \"str\", \"name\": \"zipcode\"}, {\"dtype\": \"float\", \"name\": \"lat\"}, {\"dtype\": \"float\", \"name\": \"long\"}, {\"dtype\": \"float\", \"name\": \"sqft_living15\"}, {\"dtype\": \"float\", \"name\": \"sqft_lot15\"}]}, e);\n",
       "                });\n",
       "            })();\n",
       "        "
      ]
     },
     "metadata": {},
     "output_type": "display_data"
    }
   ],
   "source": [
    "sales.show(view=\"Scatter Plot\", x='bedrooms', y=\"price\")"
   ]
  },
  {
   "cell_type": "markdown",
   "metadata": {},
   "source": [
    "# Split data into training and testing"
   ]
  },
  {
   "cell_type": "markdown",
   "metadata": {},
   "source": [
    "We use seed=0 so that everyone running this notebook gets the same results.  In practice, you may set a random seed (or let GraphLab Create pick a random seed for you).  "
   ]
  },
  {
   "cell_type": "code",
   "execution_count": 3,
   "metadata": {
    "collapsed": false
   },
   "outputs": [],
   "source": [
    "train_data,test_data = sales.random_split(.8,seed=0)"
   ]
  },
  {
   "cell_type": "markdown",
   "metadata": {},
   "source": [
    "# Useful SFrame summary functions"
   ]
  },
  {
   "cell_type": "markdown",
   "metadata": {},
   "source": [
    "In order to make use of the closed form soltion as well as take advantage of graphlab's built in functions we will review some important ones. In particular:\n",
    "* Computing the sum of an SArray\n",
    "* Computing the arithmetic average (mean) of an SArray\n",
    "* multiplying SArrays by constants\n",
    "* multiplying SArrays by other SArrays"
   ]
  },
  {
   "cell_type": "code",
   "execution_count": 4,
   "metadata": {
    "collapsed": false
   },
   "outputs": [
    {
     "name": "stdout",
     "output_type": "stream",
     "text": [
      "average price via method 1: 540088.141905\n",
      "average price via method 2: 540088.141905\n"
     ]
    }
   ],
   "source": [
    "# Let's compute the mean of the House Prices in King County in 2 different ways.\n",
    "prices = sales['price'] # extract the price column of the sales SFrame -- this is now an SArray\n",
    "\n",
    "# recall that the arithmetic average (the mean) is the sum of the prices divided by the total number of houses:\n",
    "sum_prices = prices.sum()\n",
    "num_houses = prices.size() # when prices is an SArray .size() returns its length\n",
    "avg_price_1 = sum_prices/num_houses\n",
    "avg_price_2 = prices.mean() # if you just want the average, the .mean() function\n",
    "print \"average price via method 1: \" + str(avg_price_1)\n",
    "print \"average price via method 2: \" + str(avg_price_2)"
   ]
  },
  {
   "cell_type": "markdown",
   "metadata": {},
   "source": [
    "As we see we get the same answer both ways"
   ]
  },
  {
   "cell_type": "code",
   "execution_count": 5,
   "metadata": {
    "collapsed": false
   },
   "outputs": [
    {
     "name": "stdout",
     "output_type": "stream",
     "text": [
      "the sum of price squared is: 9.21732513355e+15\n"
     ]
    }
   ],
   "source": [
    "# if we want to multiply every price by 0.5 it's a simple as:\n",
    "half_prices = 0.5*prices\n",
    "# Let's compute the sum of squares of price. We can multiply two SArrays of the same length elementwise also with *\n",
    "prices_squared = prices*prices\n",
    "sum_prices_squared = prices_squared.sum() # price_squared is an SArray of the squares and we want to add them up.\n",
    "print \"the sum of price squared is: \" + str(sum_prices_squared)"
   ]
  },
  {
   "cell_type": "markdown",
   "metadata": {},
   "source": [
    "Aside: The python notation x.xxe+yy means x.xx \\* 10^(yy). e.g 100 = 10^2 = 1*10^2 = 1e2 "
   ]
  },
  {
   "cell_type": "markdown",
   "metadata": {},
   "source": [
    "# Build a generic simple linear regression function "
   ]
  },
  {
   "cell_type": "markdown",
   "metadata": {},
   "source": [
    "Armed with these SArray functions we can use the closed form solution found from lecture to compute the slope and intercept for a simple linear regression on observations stored as SArrays: input_feature, output.\n",
    "\n",
    "Complete the following function (or write your own) to compute the simple linear regression slope and intercept:"
   ]
  },
  {
   "cell_type": "code",
   "execution_count": 18,
   "metadata": {
    "collapsed": false
   },
   "outputs": [],
   "source": [
    "def simple_linear_regression(input_feature, output):\n",
    "    # compute the mean of  input_feature and output\n",
    "    mean_x = input_feature.mean()\n",
    "    mean_y = output.mean()\n",
    "    sum_x = input_feature.sum()\n",
    "    # compute the product of the output and the input_feature and its mean\n",
    "    xy = (input_feature*output).sum()\n",
    "    # compute the squared value of the input_feature and its mean\n",
    "    xx = (input_feature*input_feature).sum() \n",
    "    # use the formula for the slope\n",
    "    slope = (xy-mean_y*sum_x)/(xx-mean_x*sum_x)\n",
    "    # use the formula for the intercept\n",
    "    intercept = mean_y-slope*mean_x\n",
    "    return (intercept, slope)"
   ]
  },
  {
   "cell_type": "markdown",
   "metadata": {},
   "source": [
    "We can test that our function works by passing it something where we know the answer. In particular we can generate a feature and then put the output exactly on a line: output = 1 + 1\\*input_feature then we know both our slope and intercept should be 1"
   ]
  },
  {
   "cell_type": "code",
   "execution_count": 19,
   "metadata": {
    "collapsed": false,
    "scrolled": true
   },
   "outputs": [
    {
     "name": "stdout",
     "output_type": "stream",
     "text": [
      "Intercept: 1.0\n",
      "Slope: 1.0\n"
     ]
    }
   ],
   "source": [
    "test_feature = graphlab.SArray(range(5))\n",
    "test_output = graphlab.SArray(1 + 1*test_feature)\n",
    "(test_intercept, test_slope) =  simple_linear_regression(test_feature, test_output)\n",
    "print \"Intercept: \" + str(test_intercept)\n",
    "print \"Slope: \" + str(test_slope)"
   ]
  },
  {
   "cell_type": "markdown",
   "metadata": {},
   "source": [
    "Now that we know it works let's build a regression model for predicting price based on sqft_living. Rembember that we train on train_data!"
   ]
  },
  {
   "cell_type": "code",
   "execution_count": 20,
   "metadata": {
    "collapsed": false
   },
   "outputs": [
    {
     "name": "stdout",
     "output_type": "stream",
     "text": [
      "Intercept: -47116.0765749\n",
      "Slope: 281.958838568\n"
     ]
    }
   ],
   "source": [
    "sqft_intercept, sqft_slope = simple_linear_regression(train_data['sqft_living'], train_data['price'])\n",
    "\n",
    "print \"Intercept: \" + str(sqft_intercept)\n",
    "print \"Slope: \" + str(sqft_slope)"
   ]
  },
  {
   "cell_type": "markdown",
   "metadata": {},
   "source": [
    "# Predicting Values"
   ]
  },
  {
   "cell_type": "markdown",
   "metadata": {},
   "source": [
    "Now that we have the model parameters: intercept & slope we can make predictions. Using SArrays it's easy to multiply an SArray by a constant and add a constant value. Complete the following function to return the predicted output given the input_feature, slope and intercept:"
   ]
  },
  {
   "cell_type": "code",
   "execution_count": 21,
   "metadata": {
    "collapsed": false
   },
   "outputs": [],
   "source": [
    "def get_regression_predictions(input_feature, intercept, slope):\n",
    "    # calculate the predicted values:\n",
    "    predicted_values = intercept + slope*input_feature\n",
    "    return predicted_values"
   ]
  },
  {
   "cell_type": "markdown",
   "metadata": {},
   "source": [
    "Now that we can calculate a prediction given the slop and intercept let's make a prediction. Use (or alter) the following to find out the estimated price for a house with 2650 squarefeet according to the squarefeet model we estiamted above.\n",
    "\n",
    "**Quiz Question: Using your Slope and Intercept from (4), What is the predicted price for a house with 2650 sqft?**"
   ]
  },
  {
   "cell_type": "code",
   "execution_count": 22,
   "metadata": {
    "collapsed": false
   },
   "outputs": [
    {
     "name": "stdout",
     "output_type": "stream",
     "text": [
      "The estimated price for a house with 2650 squarefeet is $700074.85\n"
     ]
    }
   ],
   "source": [
    "my_house_sqft = 2650\n",
    "estimated_price = get_regression_predictions(my_house_sqft, sqft_intercept, sqft_slope)\n",
    "print \"The estimated price for a house with %d squarefeet is $%.2f\" % (my_house_sqft, estimated_price)"
   ]
  },
  {
   "cell_type": "markdown",
   "metadata": {},
   "source": [
    "# Residual Sum of Squares"
   ]
  },
  {
   "cell_type": "markdown",
   "metadata": {},
   "source": [
    "Now that we have a model and can make predictions let's evaluate our model using Residual Sum of Squares (RSS). Recall that RSS is the sum of the squares of the residuals and the residuals is just a fancy word for the difference between the predicted output and the true output. \n",
    "\n",
    "Complete the following (or write your own) function to compute the RSS of a simple linear regression model given the input_feature, output, intercept and slope:"
   ]
  },
  {
   "cell_type": "code",
   "execution_count": 23,
   "metadata": {
    "collapsed": true
   },
   "outputs": [],
   "source": [
    "def get_residual_sum_of_squares(input_feature, output, intercept, slope):\n",
    "    # First get the predictions\n",
    "    predicted_values = intercept + slope*input_feature\n",
    "    # then compute the residuals (since we are squaring it doesn't matter which order you subtract)\n",
    "    residuals = predicted_values - output\n",
    "    # square the residuals and add them up\n",
    "    RSS = (residuals*residuals).sum()\n",
    "    return(RSS)"
   ]
  },
  {
   "cell_type": "markdown",
   "metadata": {},
   "source": [
    "Let's test our get_residual_sum_of_squares function by applying it to the test model where the data lie exactly on a line. Since they lie exactly on a line the residual sum of squares should be zero!"
   ]
  },
  {
   "cell_type": "code",
   "execution_count": 24,
   "metadata": {
    "collapsed": false
   },
   "outputs": [
    {
     "name": "stdout",
     "output_type": "stream",
     "text": [
      "0.0\n"
     ]
    }
   ],
   "source": [
    "print get_residual_sum_of_squares(test_feature, test_output, test_intercept, test_slope) # should be 0.0"
   ]
  },
  {
   "cell_type": "markdown",
   "metadata": {},
   "source": [
    "Now use your function to calculate the RSS on training data from the squarefeet model calculated above.\n",
    "\n",
    "**Quiz Question: According to this function and the slope and intercept from the squarefeet model What is the RSS for the simple linear regression using squarefeet to predict prices on TRAINING data?**"
   ]
  },
  {
   "cell_type": "code",
   "execution_count": 25,
   "metadata": {
    "collapsed": false
   },
   "outputs": [
    {
     "name": "stdout",
     "output_type": "stream",
     "text": [
      "The RSS of predicting Prices based on Square Feet is : 1.20191835632e+15\n"
     ]
    }
   ],
   "source": [
    "rss_prices_on_sqft = get_residual_sum_of_squares(train_data['sqft_living'], train_data['price'], sqft_intercept, sqft_slope)\n",
    "print 'The RSS of predicting Prices based on Square Feet is : ' + str(rss_prices_on_sqft)"
   ]
  },
  {
   "cell_type": "markdown",
   "metadata": {},
   "source": [
    "# Predict the squarefeet given price"
   ]
  },
  {
   "cell_type": "markdown",
   "metadata": {},
   "source": [
    "What if we want to predict the squarefoot given the price? Since we have an equation y = a + b\\*x we can solve the function for x. So that if we have the intercept (a) and the slope (b) and the price (y) we can solve for the estimated squarefeet (x).\n",
    "\n",
    "Comlplete the following function to compute the inverse regression estimate, i.e. predict the input_feature given the output!"
   ]
  },
  {
   "cell_type": "code",
   "execution_count": 28,
   "metadata": {
    "collapsed": true
   },
   "outputs": [],
   "source": [
    "def inverse_regression_predictions(output, intercept, slope):\n",
    "    # solve output = slope + intercept*input_feature for input_feature. Use this equation to compute the inverse predictions:\n",
    "    estimated_feature = (output - intercept)/slope\n",
    "    return estimated_feature"
   ]
  },
  {
   "cell_type": "markdown",
   "metadata": {},
   "source": [
    "Now that we have a function to compute the squarefeet given the price from our simple regression model let's see how big we might expect a house that coses $800,000 to be.\n",
    "\n",
    "**Quiz Question: According to this function and the regression slope and intercept from (3) what is the estimated square-feet for a house costing $800,000?**"
   ]
  },
  {
   "cell_type": "code",
   "execution_count": 29,
   "metadata": {
    "collapsed": false
   },
   "outputs": [
    {
     "name": "stdout",
     "output_type": "stream",
     "text": [
      "The estimated squarefeet for a house worth $800000.00 is 3004\n"
     ]
    }
   ],
   "source": [
    "my_house_price = 800000\n",
    "estimated_squarefeet = inverse_regression_predictions(my_house_price, sqft_intercept, sqft_slope)\n",
    "print \"The estimated squarefeet for a house worth $%.2f is %d\" % (my_house_price, estimated_squarefeet)"
   ]
  },
  {
   "cell_type": "markdown",
   "metadata": {},
   "source": [
    "# New Model: estimate prices from bedrooms"
   ]
  },
  {
   "cell_type": "markdown",
   "metadata": {},
   "source": [
    "We have made one model for predicting house prices using squarefeet, but there are many other features in the sales SFrame. \n",
    "Use your simple linear regression function to estimate the regression parameters from predicting Prices based on number of bedrooms. Use the training data!"
   ]
  },
  {
   "cell_type": "code",
   "execution_count": 31,
   "metadata": {
    "collapsed": false
   },
   "outputs": [
    {
     "name": "stdout",
     "output_type": "stream",
     "text": [
      "Intercept: -47116.0765749\n",
      "Slope: 281.958838568\n"
     ]
    }
   ],
   "source": [
    "# Estimate the slope and intercept for predicting 'price' based on 'bedrooms'\n",
    "br_intercept, br_slope = simple_linear_regression(train_data['bedrooms'], train_data['price'])\n",
    "print \"Intercept: \" + str(sqft_intercept)\n",
    "print \"Slope: \" + str(sqft_slope)"
   ]
  },
  {
   "cell_type": "markdown",
   "metadata": {},
   "source": [
    "# Test your Linear Regression Algorithm"
   ]
  },
  {
   "cell_type": "markdown",
   "metadata": {},
   "source": [
    "Now we have two models for predicting the price of a house. How do we know which one is better? Calculate the RSS on the TEST data (remember this data wasn't involved in learning the model). Compute the RSS from predicting prices using bedrooms and from predicting prices using squarefeet.\n",
    "\n",
    "**Quiz Question: Which model (square feet or bedrooms) has lowest RSS on TEST data? Think about why this might be the case.**"
   ]
  },
  {
   "cell_type": "code",
   "execution_count": 34,
   "metadata": {
    "collapsed": false
   },
   "outputs": [
    {
     "name": "stdout",
     "output_type": "stream",
     "text": [
      "The RSS of predicting Prices based on Square Feet is : 2.75402936247e+14\n"
     ]
    }
   ],
   "source": [
    "# Compute RSS when using bedrooms on TEST data:\n",
    "rss_prices_on_sqft = get_residual_sum_of_squares(test_data['sqft_living'], test_data['price'], sqft_intercept, sqft_slope)\n",
    "print 'The RSS of predicting Prices based on Square Feet is : ' + str(rss_prices_on_sqft)"
   ]
  },
  {
   "cell_type": "code",
   "execution_count": 37,
   "metadata": {
    "collapsed": false
   },
   "outputs": [
    {
     "name": "stdout",
     "output_type": "stream",
     "text": [
      "The RSS of predicting Prices based on Bedrooms is : 4.93364582868e+14\n"
     ]
    }
   ],
   "source": [
    "# Compute RSS when using squarfeet on TEST data:\n",
    "rss_prices_on_br = get_residual_sum_of_squares(test_data['bedrooms'], test_data['price'], br_intercept, br_slope)\n",
    "print 'The RSS of predicting Prices based on Bedrooms is : ' + str(rss_prices_on_br)"
   ]
  },
  {
   "cell_type": "code",
   "execution_count": null,
   "metadata": {
    "collapsed": true
   },
   "outputs": [],
   "source": []
  }
 ],
 "metadata": {
  "kernelspec": {
   "display_name": "Python 2",
   "language": "python",
   "name": "python2"
  },
  "language_info": {
   "codemirror_mode": {
    "name": "ipython",
    "version": 2
   },
   "file_extension": ".py",
   "mimetype": "text/x-python",
   "name": "python",
   "nbconvert_exporter": "python",
   "pygments_lexer": "ipython2",
   "version": "2.7.10"
  }
 },
 "nbformat": 4,
 "nbformat_minor": 0
}
